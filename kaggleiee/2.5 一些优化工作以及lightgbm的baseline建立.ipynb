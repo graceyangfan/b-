{
 "cells": [
  {
   "cell_type": "markdown",
   "metadata": {},
   "source": [
    "# 一些准备工作"
   ]
  },
  {
   "cell_type": "code",
   "execution_count": 2,
   "metadata": {},
   "outputs": [],
   "source": [
    "import gc\n",
    "import pandas as pd\n",
    "import numpy as np\n",
    "import joblib\n",
    "import lightgbm as lgb\n",
    "from sklearn.metrics import roc_auc_score\n",
    "from sklearn.model_selection import KFold,StratifiedKFold,GroupKFold,TimeSeriesSplit\n",
    "from performance_optimizing import performance_optimizing as po"
   ]
  },
  {
   "cell_type": "markdown",
   "metadata": {},
   "source": [
    "注意无论平时工作还是比赛，进行测试的时候一定要把随机性控制住，使用这个seed_everthing 的函数基本可以控制住常见的数据挖掘过程中的随机性了，如果涉及到tensorflow或keras或者pytorch，还需要针对其进行额外的随机性的控制"
   ]
  },
  {
   "cell_type": "code",
   "execution_count": 2,
   "metadata": {},
   "outputs": [],
   "source": [
    "import os\n",
    "import random\n",
    "def seed_everything(seed=42):\n",
    "    random.seed(seed)\n",
    "    os.environ['PYTHONHASHSEED'] = str(seed)\n",
    "    np.random.seed(seed)\n",
    "seed_everything(123)"
   ]
  },
  {
   "cell_type": "code",
   "execution_count": null,
   "metadata": {},
   "outputs": [],
   "source": [
    "def reduce_mem_usage(df, verbose=True):\n",
    "    numerics = ['int16', 'int32', 'int64', 'float16', 'float32', 'float64']\n",
    "    start_mem = df.memory_usage().sum() / 1024**2    \n",
    "    for col in df.columns:\n",
    "        col_type = df[col].dtypes\n",
    "        if col_type in numerics:\n",
    "            c_min = df[col].min()\n",
    "            c_max = df[col].max()\n",
    "            if str(col_type)[:3] == 'int':\n",
    "                if c_min > np.iinfo(np.int8).min and c_max < np.iinfo(np.int8).max:\n",
    "                    df[col] = df[col].astype(np.int8)\n",
    "                elif c_min > np.iinfo(np.int16).min and c_max < np.iinfo(np.int16).max:\n",
    "                    df[col] = df[col].astype(np.int16)\n",
    "                elif c_min > np.iinfo(np.int32).min and c_max < np.iinfo(np.int32).max:\n",
    "                    df[col] = df[col].astype(np.int32)\n",
    "                elif c_min > np.iinfo(np.int64).min and c_max < np.iinfo(np.int64).max:\n",
    "                    df[col] = df[col].astype(np.int64)  \n",
    "            else:\n",
    "                if c_min > np.finfo(np.float16).min and c_max < np.finfo(np.float16).max:\n",
    "                    df[col] = df[col].astype(np.float16)\n",
    "                elif c_min > np.finfo(np.float32).min and c_max < np.finfo(np.float32).max:\n",
    "                    df[col] = df[col].astype(np.float32)\n",
    "                else:\n",
    "                    df[col] = df[col].astype(np.float64)    \n",
    "    end_mem = df.memory_usage().sum() / 1024**2\n",
    "    if verbose: print('Mem. usage decreased to {:5.2f} Mb ({:.1f}% reduction)'.format(end_mem, 100 * (start_mem - end_mem) / start_mem))\n"
   ]
  },
  {
   "cell_type": "code",
   "execution_count": 4,
   "metadata": {},
   "outputs": [],
   "source": [
    "cat=pd.read_csv('cat.csv')\n",
    "cat=cat.cat.values.tolist()\n",
    "params = {'num_leaves': 491,\n",
    "          'colsample_bytree': 0.75,\n",
    "          'subsample': 0.75,\n",
    "          'min_data_in_leaf': 106,\n",
    "          'objective': 'binary',\n",
    "          'max_depth': -1,\n",
    "          'learning_rate': 0.01,\n",
    "          \"boosting_type\": \"gbdt\",\n",
    "          \"bagging_seed\": 11,\n",
    "          \"metric\": 'auc',\n",
    "          \"verbosity\": -1,\n",
    "          'reg_alpha': 0.45,\n",
    "          'reg_lambda': 0.65,\n",
    "          'random_state': 47,\n",
    "          'n_jobs':-1,\n",
    "          'n_estimators':10000,\n",
    "         }"
   ]
  },
  {
   "cell_type": "code",
   "execution_count": 5,
   "metadata": {},
   "outputs": [
    {
     "data": {
      "text/plain": [
       "['ProductCD',\n",
       " 'card1',\n",
       " 'card2',\n",
       " 'card3',\n",
       " 'card4',\n",
       " 'card5',\n",
       " 'card6',\n",
       " 'addr1',\n",
       " 'addr2',\n",
       " 'M1',\n",
       " 'M2',\n",
       " 'M3',\n",
       " 'M4',\n",
       " 'M5',\n",
       " 'M6',\n",
       " 'M7',\n",
       " 'M8',\n",
       " 'M9',\n",
       " 'id_12',\n",
       " 'id_13',\n",
       " 'id_14',\n",
       " 'id_15',\n",
       " 'id_16',\n",
       " 'id_17',\n",
       " 'id_18',\n",
       " 'id_19',\n",
       " 'id_20',\n",
       " 'id_21',\n",
       " 'id_22',\n",
       " 'id_23',\n",
       " 'id_24',\n",
       " 'id_25',\n",
       " 'id_26',\n",
       " 'id_27',\n",
       " 'id_28',\n",
       " 'id_29',\n",
       " 'id_30',\n",
       " 'id_31',\n",
       " 'id_32',\n",
       " 'id_33',\n",
       " 'id_34',\n",
       " 'id_35',\n",
       " 'id_36',\n",
       " 'id_37',\n",
       " 'id_38',\n",
       " 'DeviceType',\n",
       " 'DeviceInfo',\n",
       " 'P_emaildomain',\n",
       " 'R_emaildomain']"
      ]
     },
     "execution_count": 5,
     "metadata": {},
     "output_type": "execute_result"
    }
   ],
   "source": [
    "cat"
   ]
  },
  {
   "cell_type": "code",
   "execution_count": 6,
   "metadata": {},
   "outputs": [],
   "source": [
    "\n",
    "def lgb_model(params=None,cv=KFold(5),X=None,X_test=None,columns=None,early_stopping_rounds=200, \\\n",
    "              cols=None,categorical_feature=None,group_feature=None):\n",
    "\n",
    "\n",
    "    #folds = StratifiedKFold(n_splits=NFOLDS)\n",
    "    folds =cv\n",
    "    if cols==None:\n",
    "        columns = list(X.columns)\n",
    "    else:\n",
    "        columns=cols\n",
    "    if group_feature:\n",
    "        columns.remove(group_feature)\n",
    "        splits = folds.split(X[columns], y,groups=X[group_feature])\n",
    "    else:\n",
    "        splits = folds.split(X[columns], y)\n",
    "    y_oof = np.zeros(X.shape[0])\n",
    "    score = 0\n",
    "\n",
    "\n",
    "    clfs=[]\n",
    "    for fold_n, (train_index, valid_index) in enumerate(splits):\n",
    "        X_train, X_valid = X[columns].iloc[train_index], X[columns].iloc[valid_index]\n",
    "        y_train, y_valid = y.iloc[train_index], y.iloc[valid_index]\n",
    "\n",
    "\n",
    "        clf = lgb.LGBMClassifier(**params)\n",
    "        clf.fit(X_train,y_train,eval_set=[(X_train,y_train),(X_valid,y_valid)], \\\n",
    "                 eval_metric='auc', verbose=100, early_stopping_rounds=early_stopping_rounds,categorical_feature=categorical_feature)\n",
    "\n",
    "\n",
    "        y_pred_valid = clf.predict_proba(X_valid)[:,1]\n",
    "        y_oof[valid_index] = y_pred_valid\n",
    "        print(f\"Fold {fold_n + 1} | AUC: {roc_auc_score(y_valid, y_pred_valid)}\")\n",
    "\n",
    "        score += roc_auc_score(y_valid, y_pred_valid) / 5\n",
    "\n",
    "        del X_train, X_valid, y_train, y_valid\n",
    "        gc.collect()\n",
    "        clfs.append(clf)\n",
    "\n",
    "    print(f\"\\nMean AUC = {score}\")\n",
    "    print(f\"Out of folds AUC = {roc_auc_score(y, y_oof)}\")\n",
    "    return clfs"
   ]
  },
  {
   "cell_type": "markdown",
   "metadata": {},
   "source": [
    "因为cat已经记录了原始数据中的类别特征是哪些了，通过为lightgbm指定category_feature即可，所以我们先对原始的类别特征进行编码处理，用int型数据来保存，这样可以大大降低内存占用以及提高读写的速度"
   ]
  },
  {
   "cell_type": "markdown",
   "metadata": {},
   "source": [
    "## 数据类型优化降低内存占用"
   ]
  },
  {
   "cell_type": "markdown",
   "metadata": {},
   "source": [
    "需要注意的细节是，这里我们对类别特征使用了标签编码，缺失值直接指定为-1，也就是将缺失的部分当作“缺失类”考虑进去"
   ]
  },
  {
   "cell_type": "code",
   "execution_count": 7,
   "metadata": {},
   "outputs": [
    {
     "name": "stdout",
     "output_type": "stream",
     "text": [
      "ProductCD , card1 , card2 , card3 , card4 , card5 , card6 , addr1 , addr2 , M1 , M2 , M3 , M4 , M5 , M6 , M7 , M8 , M9 , id_12 , id_13 , id_14 , id_15 , id_16 , id_17 , id_18 , id_19 , id_20 , id_21 , id_22 , id_23 , id_24 , id_25 , id_26 , id_27 , id_28 , id_29 , id_30 , id_31 , id_32 , id_33 , id_34 , id_35 , id_36 , id_37 , id_38 , DeviceType , DeviceInfo , "
     ]
    }
   ],
   "source": [
    "for col in cat:\n",
    "    po.cat2int(col,X,X_test)"
   ]
  },
  {
   "cell_type": "code",
   "execution_count": 6,
   "metadata": {},
   "outputs": [
    {
     "name": "stdout",
     "output_type": "stream",
     "text": [
      "P_emaildomain , R_emaildomain , "
     ]
    }
   ],
   "source": [
    "for col in ['P_emaildomain',\n",
    " 'R_emaildomain']:\n",
    "    po.cat2int(col,X,X_test)"
   ]
  },
  {
   "cell_type": "code",
   "execution_count": 8,
   "metadata": {},
   "outputs": [],
   "source": [
    "others=list(set(X.columns)-set(cat))"
   ]
  },
  {
   "cell_type": "code",
   "execution_count": 9,
   "metadata": {},
   "outputs": [
    {
     "name": "stdout",
     "output_type": "stream",
     "text": [
      "Mem. usage decreased to 527.14 Mb (70.7% reduction)\n"
     ]
    }
   ],
   "source": [
    "po.reduce_mem_usage(X,others)"
   ]
  },
  {
   "cell_type": "code",
   "execution_count": 10,
   "metadata": {},
   "outputs": [
    {
     "name": "stdout",
     "output_type": "stream",
     "text": [
      "Mem. usage decreased to 459.54 Mb (70.1% reduction)\n"
     ]
    }
   ],
   "source": [
    "po.reduce_mem_usage(X_test,others)"
   ]
  },
  {
   "cell_type": "code",
   "execution_count": 9,
   "metadata": {},
   "outputs": [],
   "source": [
    "dtypes=pd.DataFrame(X.dtypes)"
   ]
  },
  {
   "cell_type": "code",
   "execution_count": 11,
   "metadata": {},
   "outputs": [],
   "source": [
    "dtypes.to_csv('dtypes.csv')"
   ]
  },
  {
   "cell_type": "markdown",
   "metadata": {},
   "source": [
    "处理完毕的数据进行保存"
   ]
  },
  {
   "cell_type": "code",
   "execution_count": 7,
   "metadata": {},
   "outputs": [],
   "source": [
    "X.to_csv('X.csv',index=False)\n",
    "X_test.to_csv('X_test.csv',index=False)\n"
   ]
  },
  {
   "cell_type": "markdown",
   "metadata": {},
   "source": [
    "# 确定交叉验证的方式"
   ]
  },
  {
   "cell_type": "markdown",
   "metadata": {},
   "source": [
    "## StratifiedKFold"
   ]
  },
  {
   "cell_type": "code",
   "execution_count": 18,
   "metadata": {},
   "outputs": [
    {
     "name": "stdout",
     "output_type": "stream",
     "text": [
      "Training until validation scores don't improve for 200 rounds\n",
      "[100]\ttraining's auc: 0.970525\tvalid_1's auc: 0.870907\n",
      "[200]\ttraining's auc: 0.984701\tvalid_1's auc: 0.875924\n",
      "[300]\ttraining's auc: 0.991496\tvalid_1's auc: 0.874564\n",
      "Early stopping, best iteration is:\n",
      "[171]\ttraining's auc: 0.981575\tvalid_1's auc: 0.87765\n",
      "Fold 1 | AUC: 0.8776495288500892\n",
      "Training until validation scores don't improve for 200 rounds\n",
      "[100]\ttraining's auc: 0.967389\tvalid_1's auc: 0.901537\n",
      "[200]\ttraining's auc: 0.983324\tvalid_1's auc: 0.905095\n",
      "[300]\ttraining's auc: 0.991021\tvalid_1's auc: 0.900565\n",
      "[400]\ttraining's auc: 0.995303\tvalid_1's auc: 0.890137\n",
      "Early stopping, best iteration is:\n",
      "[227]\ttraining's auc: 0.985919\tvalid_1's auc: 0.905993\n",
      "Fold 2 | AUC: 0.9059934678604471\n",
      "Training until validation scores don't improve for 200 rounds\n",
      "[100]\ttraining's auc: 0.968553\tvalid_1's auc: 0.908253\n",
      "[200]\ttraining's auc: 0.984142\tvalid_1's auc: 0.918403\n",
      "[300]\ttraining's auc: 0.991361\tvalid_1's auc: 0.921004\n",
      "[400]\ttraining's auc: 0.995451\tvalid_1's auc: 0.920433\n",
      "Early stopping, best iteration is:\n",
      "[285]\ttraining's auc: 0.990545\tvalid_1's auc: 0.921385\n",
      "Fold 3 | AUC: 0.9213854685936949\n",
      "Training until validation scores don't improve for 200 rounds\n",
      "[100]\ttraining's auc: 0.967341\tvalid_1's auc: 0.927636\n",
      "[200]\ttraining's auc: 0.98307\tvalid_1's auc: 0.940174\n",
      "[300]\ttraining's auc: 0.99092\tvalid_1's auc: 0.946076\n",
      "[400]\ttraining's auc: 0.99518\tvalid_1's auc: 0.949031\n",
      "[500]\ttraining's auc: 0.997491\tvalid_1's auc: 0.950109\n",
      "[600]\ttraining's auc: 0.998672\tvalid_1's auc: 0.950534\n",
      "[700]\ttraining's auc: 0.999281\tvalid_1's auc: 0.950593\n",
      "[800]\ttraining's auc: 0.999612\tvalid_1's auc: 0.950622\n",
      "[900]\ttraining's auc: 0.999797\tvalid_1's auc: 0.950833\n",
      "[1000]\ttraining's auc: 0.999895\tvalid_1's auc: 0.950728\n",
      "[1100]\ttraining's auc: 0.99995\tvalid_1's auc: 0.950501\n",
      "Early stopping, best iteration is:\n",
      "[906]\ttraining's auc: 0.999805\tvalid_1's auc: 0.950877\n",
      "Fold 4 | AUC: 0.9508770467105798\n",
      "Training until validation scores don't improve for 200 rounds\n",
      "[100]\ttraining's auc: 0.968549\tvalid_1's auc: 0.898903\n",
      "[200]\ttraining's auc: 0.9838\tvalid_1's auc: 0.911777\n",
      "[300]\ttraining's auc: 0.991284\tvalid_1's auc: 0.917964\n",
      "[400]\ttraining's auc: 0.995389\tvalid_1's auc: 0.920774\n",
      "[500]\ttraining's auc: 0.997578\tvalid_1's auc: 0.921729\n",
      "[600]\ttraining's auc: 0.998714\tvalid_1's auc: 0.922807\n",
      "[700]\ttraining's auc: 0.999305\tvalid_1's auc: 0.923752\n",
      "[800]\ttraining's auc: 0.999629\tvalid_1's auc: 0.92455\n",
      "[900]\ttraining's auc: 0.999807\tvalid_1's auc: 0.925104\n",
      "[1000]\ttraining's auc: 0.9999\tvalid_1's auc: 0.925585\n",
      "[1100]\ttraining's auc: 0.999949\tvalid_1's auc: 0.925728\n",
      "[1200]\ttraining's auc: 0.999975\tvalid_1's auc: 0.925904\n",
      "[1300]\ttraining's auc: 0.999987\tvalid_1's auc: 0.925675\n",
      "Early stopping, best iteration is:\n",
      "[1190]\ttraining's auc: 0.999973\tvalid_1's auc: 0.92594\n",
      "Fold 5 | AUC: 0.9259400265041735\n",
      "\n",
      "Mean AUC = 0.9163691077037969\n",
      "Out of folds AUC = 0.8698307691705536\n"
     ]
    }
   ],
   "source": [
    "clfs=lgb_model(params=params,cv=StratifiedKFold(5),X=X,X_test=X_test,early_stopping_rounds=200,categorical_feature=cat)"
   ]
  },
  {
   "cell_type": "code",
   "execution_count": 19,
   "metadata": {},
   "outputs": [],
   "source": [
    "y_preds=np.zeros(X_test.shape[0])\n",
    "for clf in clfs:\n",
    "    y_preds+=clf.predict_proba(X_test)[:,1]\n",
    "sub=pd.read_csv('sample_submission.csv')\n",
    "sub['isFraud']=y_preds\n",
    "sub.to_csv('./submit/sub_stratifiedkfold.csv',index=False)"
   ]
  },
  {
   "cell_type": "markdown",
   "metadata": {},
   "source": [
    "## KFold"
   ]
  },
  {
   "cell_type": "code",
   "execution_count": 20,
   "metadata": {},
   "outputs": [
    {
     "name": "stdout",
     "output_type": "stream",
     "text": [
      "Training until validation scores don't improve for 200 rounds\n",
      "[100]\ttraining's auc: 0.967689\tvalid_1's auc: 0.883455\n",
      "[200]\ttraining's auc: 0.98287\tvalid_1's auc: 0.888501\n",
      "[300]\ttraining's auc: 0.989902\tvalid_1's auc: 0.891704\n",
      "[400]\ttraining's auc: 0.994226\tvalid_1's auc: 0.894974\n",
      "[500]\ttraining's auc: 0.996787\tvalid_1's auc: 0.897366\n",
      "[600]\ttraining's auc: 0.998147\tvalid_1's auc: 0.899755\n",
      "[700]\ttraining's auc: 0.998918\tvalid_1's auc: 0.901197\n",
      "[800]\ttraining's auc: 0.999371\tvalid_1's auc: 0.902284\n",
      "[900]\ttraining's auc: 0.999639\tvalid_1's auc: 0.902604\n",
      "[1000]\ttraining's auc: 0.9998\tvalid_1's auc: 0.903494\n",
      "[1100]\ttraining's auc: 0.999891\tvalid_1's auc: 0.904437\n",
      "[1200]\ttraining's auc: 0.999942\tvalid_1's auc: 0.904857\n",
      "[1300]\ttraining's auc: 0.999969\tvalid_1's auc: 0.905255\n",
      "[1400]\ttraining's auc: 0.999984\tvalid_1's auc: 0.905521\n",
      "[1500]\ttraining's auc: 0.999992\tvalid_1's auc: 0.905833\n",
      "[1600]\ttraining's auc: 0.999996\tvalid_1's auc: 0.906065\n",
      "[1700]\ttraining's auc: 0.999998\tvalid_1's auc: 0.906388\n",
      "[1800]\ttraining's auc: 0.999999\tvalid_1's auc: 0.906553\n",
      "[1900]\ttraining's auc: 0.999999\tvalid_1's auc: 0.906908\n",
      "[2000]\ttraining's auc: 1\tvalid_1's auc: 0.906983\n",
      "[2100]\ttraining's auc: 1\tvalid_1's auc: 0.907148\n",
      "[2200]\ttraining's auc: 1\tvalid_1's auc: 0.907242\n",
      "[2300]\ttraining's auc: 1\tvalid_1's auc: 0.907669\n",
      "[2400]\ttraining's auc: 1\tvalid_1's auc: 0.907789\n",
      "[2500]\ttraining's auc: 1\tvalid_1's auc: 0.907782\n",
      "[2600]\ttraining's auc: 1\tvalid_1's auc: 0.907866\n",
      "[2700]\ttraining's auc: 1\tvalid_1's auc: 0.908002\n",
      "[2800]\ttraining's auc: 1\tvalid_1's auc: 0.907953\n",
      "Early stopping, best iteration is:\n",
      "[2692]\ttraining's auc: 1\tvalid_1's auc: 0.908015\n",
      "Fold 1 | AUC: 0.9080146990057908\n",
      "Training until validation scores don't improve for 200 rounds\n",
      "[100]\ttraining's auc: 0.96641\tvalid_1's auc: 0.91201\n",
      "[200]\ttraining's auc: 0.983186\tvalid_1's auc: 0.92412\n",
      "[300]\ttraining's auc: 0.990839\tvalid_1's auc: 0.929689\n",
      "[400]\ttraining's auc: 0.995169\tvalid_1's auc: 0.93183\n",
      "[500]\ttraining's auc: 0.997451\tvalid_1's auc: 0.932058\n",
      "[600]\ttraining's auc: 0.998626\tvalid_1's auc: 0.932191\n",
      "[700]\ttraining's auc: 0.999254\tvalid_1's auc: 0.932032\n",
      "Early stopping, best iteration is:\n",
      "[587]\ttraining's auc: 0.998507\tvalid_1's auc: 0.932267\n",
      "Fold 2 | AUC: 0.9322669013021163\n",
      "Training until validation scores don't improve for 200 rounds\n",
      "[100]\ttraining's auc: 0.968213\tvalid_1's auc: 0.910656\n",
      "[200]\ttraining's auc: 0.983853\tvalid_1's auc: 0.922499\n",
      "[300]\ttraining's auc: 0.991345\tvalid_1's auc: 0.927331\n",
      "[400]\ttraining's auc: 0.995393\tvalid_1's auc: 0.929446\n",
      "[500]\ttraining's auc: 0.997546\tvalid_1's auc: 0.929334\n",
      "[600]\ttraining's auc: 0.998674\tvalid_1's auc: 0.928999\n",
      "Early stopping, best iteration is:\n",
      "[449]\ttraining's auc: 0.996642\tvalid_1's auc: 0.929762\n",
      "Fold 3 | AUC: 0.9297624836490158\n",
      "Training until validation scores don't improve for 200 rounds\n",
      "[100]\ttraining's auc: 0.967903\tvalid_1's auc: 0.925696\n",
      "[200]\ttraining's auc: 0.983382\tvalid_1's auc: 0.937814\n",
      "[300]\ttraining's auc: 0.991078\tvalid_1's auc: 0.943154\n",
      "[400]\ttraining's auc: 0.995312\tvalid_1's auc: 0.945667\n",
      "[500]\ttraining's auc: 0.997563\tvalid_1's auc: 0.946494\n",
      "[600]\ttraining's auc: 0.998726\tvalid_1's auc: 0.946699\n",
      "[700]\ttraining's auc: 0.99931\tvalid_1's auc: 0.946713\n",
      "[800]\ttraining's auc: 0.999636\tvalid_1's auc: 0.946717\n",
      "Early stopping, best iteration is:\n",
      "[642]\ttraining's auc: 0.999017\tvalid_1's auc: 0.946783\n",
      "Fold 4 | AUC: 0.9467826139635424\n",
      "Training until validation scores don't improve for 200 rounds\n",
      "[100]\ttraining's auc: 0.968238\tvalid_1's auc: 0.898174\n",
      "[200]\ttraining's auc: 0.983764\tvalid_1's auc: 0.912631\n",
      "[300]\ttraining's auc: 0.991285\tvalid_1's auc: 0.918559\n",
      "[400]\ttraining's auc: 0.99535\tvalid_1's auc: 0.921557\n",
      "[500]\ttraining's auc: 0.997514\tvalid_1's auc: 0.923483\n",
      "[600]\ttraining's auc: 0.998652\tvalid_1's auc: 0.924377\n",
      "[700]\ttraining's auc: 0.999262\tvalid_1's auc: 0.925049\n",
      "[800]\ttraining's auc: 0.999603\tvalid_1's auc: 0.925207\n",
      "[900]\ttraining's auc: 0.999793\tvalid_1's auc: 0.925266\n",
      "[1000]\ttraining's auc: 0.999894\tvalid_1's auc: 0.925457\n",
      "[1100]\ttraining's auc: 0.999945\tvalid_1's auc: 0.925463\n",
      "[1200]\ttraining's auc: 0.999972\tvalid_1's auc: 0.925689\n",
      "[1300]\ttraining's auc: 0.999986\tvalid_1's auc: 0.92565\n",
      "[1400]\ttraining's auc: 0.999993\tvalid_1's auc: 0.925658\n",
      "[1500]\ttraining's auc: 0.999997\tvalid_1's auc: 0.92564\n",
      "[1600]\ttraining's auc: 0.999998\tvalid_1's auc: 0.925597\n",
      "[1700]\ttraining's auc: 0.999999\tvalid_1's auc: 0.925487\n",
      "Early stopping, best iteration is:\n",
      "[1550]\ttraining's auc: 0.999998\tvalid_1's auc: 0.925713\n",
      "Fold 5 | AUC: 0.9257133229003753\n",
      "\n",
      "Mean AUC = 0.9285080041641682\n",
      "Out of folds AUC = 0.9198989085628231\n"
     ]
    }
   ],
   "source": [
    "clfs=lgb_model(params=params,cv=KFold(5),X=X,X_test=X_test,early_stopping_rounds=200,cols=None,categorical_feature=cat)"
   ]
  },
  {
   "cell_type": "code",
   "execution_count": 21,
   "metadata": {},
   "outputs": [],
   "source": [
    "y_preds=np.zeros(X_test.shape[0])\n",
    "for clf in clfs:\n",
    "    y_preds+=clf.predict_proba(X_test)[:,1]\n",
    "sub=pd.read_csv('sample_submission.csv')\n",
    "sub['isFraud']=y_preds\n",
    "sub.to_csv('./submit/sub_kfold.csv',index=False)"
   ]
  },
  {
   "cell_type": "markdown",
   "metadata": {},
   "source": [
    "## 时间序列交叉验证 TimeSeriesSplit"
   ]
  },
  {
   "cell_type": "code",
   "execution_count": 22,
   "metadata": {},
   "outputs": [
    {
     "name": "stdout",
     "output_type": "stream",
     "text": [
      "Training until validation scores don't improve for 200 rounds\n",
      "[100]\ttraining's auc: 0.982009\tvalid_1's auc: 0.878758\n",
      "[200]\ttraining's auc: 0.994292\tvalid_1's auc: 0.880891\n",
      "[300]\ttraining's auc: 0.99839\tvalid_1's auc: 0.882239\n",
      "[400]\ttraining's auc: 0.99962\tvalid_1's auc: 0.882654\n",
      "[500]\ttraining's auc: 0.999918\tvalid_1's auc: 0.88384\n",
      "[600]\ttraining's auc: 0.999983\tvalid_1's auc: 0.885374\n",
      "[700]\ttraining's auc: 0.999997\tvalid_1's auc: 0.88579\n",
      "[800]\ttraining's auc: 0.999999\tvalid_1's auc: 0.886357\n",
      "[900]\ttraining's auc: 1\tvalid_1's auc: 0.886145\n",
      "[1000]\ttraining's auc: 1\tvalid_1's auc: 0.885963\n",
      "Early stopping, best iteration is:\n",
      "[804]\ttraining's auc: 1\tvalid_1's auc: 0.886406\n",
      "Fold 1 | AUC: 0.8862647786854643\n",
      "Training until validation scores don't improve for 200 rounds\n",
      "[100]\ttraining's auc: 0.981721\tvalid_1's auc: 0.899393\n",
      "[200]\ttraining's auc: 0.993454\tvalid_1's auc: 0.910388\n",
      "[300]\ttraining's auc: 0.997867\tvalid_1's auc: 0.91433\n",
      "[400]\ttraining's auc: 0.99932\tvalid_1's auc: 0.91402\n",
      "[500]\ttraining's auc: 0.99979\tvalid_1's auc: 0.914782\n",
      "[600]\ttraining's auc: 0.999937\tvalid_1's auc: 0.915109\n",
      "[700]\ttraining's auc: 0.999981\tvalid_1's auc: 0.915239\n",
      "[800]\ttraining's auc: 0.999994\tvalid_1's auc: 0.915455\n",
      "[900]\ttraining's auc: 0.999998\tvalid_1's auc: 0.91529\n",
      "[1000]\ttraining's auc: 1\tvalid_1's auc: 0.915072\n",
      "Early stopping, best iteration is:\n",
      "[825]\ttraining's auc: 0.999996\tvalid_1's auc: 0.915535\n",
      "Fold 2 | AUC: 0.9155351611352969\n",
      "Training until validation scores don't improve for 200 rounds\n",
      "[100]\ttraining's auc: 0.976256\tvalid_1's auc: 0.892089\n",
      "[200]\ttraining's auc: 0.989222\tvalid_1's auc: 0.902853\n",
      "[300]\ttraining's auc: 0.995628\tvalid_1's auc: 0.907633\n",
      "[400]\ttraining's auc: 0.998179\tvalid_1's auc: 0.908437\n",
      "[500]\ttraining's auc: 0.999257\tvalid_1's auc: 0.907914\n",
      "[600]\ttraining's auc: 0.999706\tvalid_1's auc: 0.906736\n",
      "Early stopping, best iteration is:\n",
      "[423]\ttraining's auc: 0.998509\tvalid_1's auc: 0.908626\n",
      "Fold 3 | AUC: 0.9086256634589457\n",
      "Training until validation scores don't improve for 200 rounds\n",
      "[100]\ttraining's auc: 0.970703\tvalid_1's auc: 0.907593\n",
      "[200]\ttraining's auc: 0.985288\tvalid_1's auc: 0.919965\n",
      "[300]\ttraining's auc: 0.992726\tvalid_1's auc: 0.925542\n",
      "[400]\ttraining's auc: 0.996405\tvalid_1's auc: 0.927757\n",
      "[500]\ttraining's auc: 0.998257\tvalid_1's auc: 0.928911\n",
      "[600]\ttraining's auc: 0.999138\tvalid_1's auc: 0.929352\n",
      "[700]\ttraining's auc: 0.999579\tvalid_1's auc: 0.929824\n",
      "[800]\ttraining's auc: 0.999799\tvalid_1's auc: 0.930078\n",
      "[900]\ttraining's auc: 0.999908\tvalid_1's auc: 0.930327\n",
      "[1000]\ttraining's auc: 0.999958\tvalid_1's auc: 0.93034\n",
      "[1100]\ttraining's auc: 0.999981\tvalid_1's auc: 0.930329\n",
      "Early stopping, best iteration is:\n",
      "[942]\ttraining's auc: 0.999933\tvalid_1's auc: 0.930489\n",
      "Fold 4 | AUC: 0.9304890562868533\n",
      "Training until validation scores don't improve for 200 rounds\n",
      "[100]\ttraining's auc: 0.967894\tvalid_1's auc: 0.903924\n",
      "[200]\ttraining's auc: 0.983067\tvalid_1's auc: 0.917148\n",
      "[300]\ttraining's auc: 0.990643\tvalid_1's auc: 0.92237\n",
      "[400]\ttraining's auc: 0.994939\tvalid_1's auc: 0.92528\n",
      "[500]\ttraining's auc: 0.997301\tvalid_1's auc: 0.927227\n",
      "[600]\ttraining's auc: 0.998534\tvalid_1's auc: 0.928428\n",
      "[700]\ttraining's auc: 0.999194\tvalid_1's auc: 0.929198\n",
      "[800]\ttraining's auc: 0.999555\tvalid_1's auc: 0.929566\n",
      "[900]\ttraining's auc: 0.999758\tvalid_1's auc: 0.929761\n",
      "[1000]\ttraining's auc: 0.999873\tvalid_1's auc: 0.929777\n",
      "[1100]\ttraining's auc: 0.999934\tvalid_1's auc: 0.929835\n",
      "[1200]\ttraining's auc: 0.999966\tvalid_1's auc: 0.929667\n",
      "[1300]\ttraining's auc: 0.999983\tvalid_1's auc: 0.929638\n",
      "Early stopping, best iteration is:\n",
      "[1104]\ttraining's auc: 0.999936\tvalid_1's auc: 0.929862\n",
      "Fold 5 | AUC: 0.9298621390891388\n",
      "\n",
      "Mean AUC = 0.9141553597311398\n",
      "Out of folds AUC = 0.8232566819322535\n"
     ]
    }
   ],
   "source": [
    "clfs=lgb_model(params=params,cv=TimeSeriesSplit(5),X=X,X_test=X_test,early_stopping_rounds=200,cols=None,categorical_feature=cat)"
   ]
  },
  {
   "cell_type": "code",
   "execution_count": 23,
   "metadata": {},
   "outputs": [],
   "source": [
    "y_preds=np.zeros(X_test.shape[0])\n",
    "for clf in clfs:\n",
    "    y_preds+=clf.predict_proba(X_test)[:,1]\n",
    "sub=pd.read_csv('sample_submission.csv')\n",
    "sub['isFraud']=y_preds\n",
    "sub.to_csv('./submit/sub_timeseriesfold.csv',index=False)"
   ]
  },
  {
   "cell_type": "markdown",
   "metadata": {},
   "source": [
    "可以看到，对于时序问题，交叉验证的方式会起到很大的影响，主要是因为不同交叉验证的方式会导致不同程度的时间穿越问题"
   ]
  },
  {
   "cell_type": "markdown",
   "metadata": {},
   "source": [
    "## GroupKFold"
   ]
  },
  {
   "cell_type": "markdown",
   "metadata": {},
   "source": [
    "最后尝试一下groupby"
   ]
  },
  {
   "cell_type": "code",
   "execution_count": 24,
   "metadata": {},
   "outputs": [
    {
     "data": {
      "text/plain": [
       "<matplotlib.collections.PathCollection at 0x1fc032d62b0>"
      ]
     },
     "execution_count": 24,
     "metadata": {},
     "output_type": "execute_result"
    },
    {
     "data": {
      "image/png": "[encoded data removed]",
      "text/plain": [
       "<Figure size 432x288 with 1 Axes>"
      ]
     },
     "metadata": {
      "needs_background": "light"
     },
     "output_type": "display_data"
    }
   ],
   "source": [
    "import matplotlib.pyplot as plt\n",
    "transactiondt=X.TransactionDT.values.tolist()+X_test.TransactionDT.values.tolist()\n",
    "plt.scatter(list(range(len(transactiondt))),transactiondt)"
   ]
  },
  {
   "cell_type": "markdown",
   "metadata": {},
   "source": [
    "根据transactiondt的值的大小，看起来像是以秒为单位的时间戳，我们把首尾的值相减算出时间间隔然后将秒转化为天看看结果："
   ]
  },
  {
   "cell_type": "code",
   "execution_count": 25,
   "metadata": {},
   "outputs": [
    {
     "data": {
      "text/plain": [
       "394.99936342592594"
      ]
     },
     "execution_count": 25,
     "metadata": {},
     "output_type": "execute_result"
    }
   ],
   "source": [
    "(max(transactiondt)-min(transactiondt))/(3600*24)"
   ]
  },
  {
   "cell_type": "markdown",
   "metadata": {},
   "source": [
    "从数值上看是比较合理的，因为本身这些属于来源于信用卡，相对来说属于比较小额的交易，不像房贷这种大额贷款 数据周期跨度长，394天大概是一年多一点的周期长度很正常，之前遇到的小额贷款问题大都是1~2年期跨度之间的"
   ]
  },
  {
   "cell_type": "markdown",
   "metadata": {},
   "source": [
    "所以接下来我们就可以假定一个初始日期，来确定具体的时间，时间的绝对大小并不是很重要，重要的是时间的相对间隔与其反映出来的周期性"
   ]
  },
  {
   "cell_type": "code",
   "execution_count": 15,
   "metadata": {},
   "outputs": [],
   "source": [
    "import datetime\n",
    "START_DATE = datetime.datetime.strptime('2017-11-30', '%Y-%m-%d')\n",
    "X['DT_M'] = X['TransactionDT'].apply(lambda x: (START_DATE + datetime.timedelta(seconds = x)))\n",
    "X['DT_M'] = (X['DT_M'].dt.year-2017)*12 + X['DT_M'].dt.month \n",
    "\n",
    "X_test['DT_M'] = X_test['TransactionDT'].apply(lambda x: (START_DATE + datetime.timedelta(seconds = x)))\n",
    "X_test['DT_M'] = (X_test['DT_M'].dt.year-2017)*12 + X_test['DT_M'].dt.month "
   ]
  },
  {
   "cell_type": "code",
   "execution_count": 27,
   "metadata": {},
   "outputs": [
    {
     "data": {
      "text/plain": [
       "0         12\n",
       "1         12\n",
       "2         12\n",
       "3         12\n",
       "4         12\n",
       "          ..\n",
       "590535    17\n",
       "590536    17\n",
       "590537    17\n",
       "590538    17\n",
       "590539    17\n",
       "Name: DT_M, Length: 590540, dtype: int64"
      ]
     },
     "execution_count": 27,
     "metadata": {},
     "output_type": "execute_result"
    }
   ],
   "source": [
    "X.DT_M"
   ]
  },
  {
   "cell_type": "code",
   "execution_count": 28,
   "metadata": {},
   "outputs": [
    {
     "name": "stdout",
     "output_type": "stream",
     "text": [
      "Training until validation scores don't improve for 200 rounds\n",
      "[100]\ttraining's auc: 0.969036\tvalid_1's auc: 0.870002\n",
      "[200]\ttraining's auc: 0.983272\tvalid_1's auc: 0.877622\n",
      "[300]\ttraining's auc: 0.990389\tvalid_1's auc: 0.883028\n",
      "[400]\ttraining's auc: 0.994637\tvalid_1's auc: 0.886177\n",
      "[500]\ttraining's auc: 0.997049\tvalid_1's auc: 0.888027\n",
      "[600]\ttraining's auc: 0.998322\tvalid_1's auc: 0.889045\n",
      "[700]\ttraining's auc: 0.999044\tvalid_1's auc: 0.889514\n",
      "[800]\ttraining's auc: 0.999451\tvalid_1's auc: 0.890003\n",
      "[900]\ttraining's auc: 0.99969\tvalid_1's auc: 0.890556\n",
      "[1000]\ttraining's auc: 0.99983\tvalid_1's auc: 0.890981\n",
      "[1100]\ttraining's auc: 0.999909\tvalid_1's auc: 0.891246\n",
      "[1200]\ttraining's auc: 0.999953\tvalid_1's auc: 0.891588\n",
      "[1300]\ttraining's auc: 0.999976\tvalid_1's auc: 0.891736\n",
      "[1400]\ttraining's auc: 0.999988\tvalid_1's auc: 0.891882\n",
      "[1500]\ttraining's auc: 0.999994\tvalid_1's auc: 0.892259\n",
      "[1600]\ttraining's auc: 0.999997\tvalid_1's auc: 0.892906\n",
      "[1700]\ttraining's auc: 0.999998\tvalid_1's auc: 0.893225\n",
      "[1800]\ttraining's auc: 0.999999\tvalid_1's auc: 0.893347\n",
      "[1900]\ttraining's auc: 1\tvalid_1's auc: 0.893502\n",
      "[2000]\ttraining's auc: 1\tvalid_1's auc: 0.893752\n",
      "[2100]\ttraining's auc: 1\tvalid_1's auc: 0.893915\n",
      "[2200]\ttraining's auc: 1\tvalid_1's auc: 0.894114\n",
      "[2300]\ttraining's auc: 1\tvalid_1's auc: 0.894174\n",
      "[2400]\ttraining's auc: 1\tvalid_1's auc: 0.89434\n",
      "[2500]\ttraining's auc: 1\tvalid_1's auc: 0.894205\n",
      "[2600]\ttraining's auc: 1\tvalid_1's auc: 0.894356\n",
      "[2700]\ttraining's auc: 1\tvalid_1's auc: 0.894364\n",
      "Early stopping, best iteration is:\n",
      "[2568]\ttraining's auc: 1\tvalid_1's auc: 0.894412\n",
      "Fold 1 | AUC: 0.8944119175285996\n",
      "Training until validation scores don't improve for 200 rounds\n",
      "[100]\ttraining's auc: 0.96919\tvalid_1's auc: 0.917272\n",
      "[200]\ttraining's auc: 0.9841\tvalid_1's auc: 0.928998\n",
      "[300]\ttraining's auc: 0.991504\tvalid_1's auc: 0.933882\n",
      "[400]\ttraining's auc: 0.995511\tvalid_1's auc: 0.936414\n",
      "[500]\ttraining's auc: 0.99771\tvalid_1's auc: 0.937241\n",
      "[600]\ttraining's auc: 0.998777\tvalid_1's auc: 0.937707\n",
      "[700]\ttraining's auc: 0.999335\tvalid_1's auc: 0.938039\n",
      "[800]\ttraining's auc: 0.999638\tvalid_1's auc: 0.938264\n",
      "[900]\ttraining's auc: 0.999811\tvalid_1's auc: 0.938194\n",
      "[1000]\ttraining's auc: 0.999904\tvalid_1's auc: 0.938152\n",
      "Early stopping, best iteration is:\n",
      "[830]\ttraining's auc: 0.999701\tvalid_1's auc: 0.938278\n",
      "Fold 2 | AUC: 0.9382777473051584\n",
      "Training until validation scores don't improve for 200 rounds\n",
      "[100]\ttraining's auc: 0.966042\tvalid_1's auc: 0.91102\n",
      "[200]\ttraining's auc: 0.98277\tvalid_1's auc: 0.924094\n",
      "[300]\ttraining's auc: 0.990759\tvalid_1's auc: 0.930229\n",
      "[400]\ttraining's auc: 0.99494\tvalid_1's auc: 0.932023\n",
      "[500]\ttraining's auc: 0.99728\tvalid_1's auc: 0.932886\n",
      "[600]\ttraining's auc: 0.998525\tvalid_1's auc: 0.933145\n",
      "[700]\ttraining's auc: 0.99918\tvalid_1's auc: 0.933254\n",
      "[800]\ttraining's auc: 0.99955\tvalid_1's auc: 0.933354\n",
      "[900]\ttraining's auc: 0.999761\tvalid_1's auc: 0.933447\n",
      "[1000]\ttraining's auc: 0.999874\tvalid_1's auc: 0.933504\n",
      "[1100]\ttraining's auc: 0.999935\tvalid_1's auc: 0.933688\n",
      "[1200]\ttraining's auc: 0.999967\tvalid_1's auc: 0.933717\n",
      "[1300]\ttraining's auc: 0.999983\tvalid_1's auc: 0.93387\n",
      "[1400]\ttraining's auc: 0.999991\tvalid_1's auc: 0.933864\n",
      "[1500]\ttraining's auc: 0.999996\tvalid_1's auc: 0.933879\n",
      "[1600]\ttraining's auc: 0.999998\tvalid_1's auc: 0.933868\n",
      "[1700]\ttraining's auc: 0.999999\tvalid_1's auc: 0.934046\n",
      "[1800]\ttraining's auc: 0.999999\tvalid_1's auc: 0.934142\n",
      "[1900]\ttraining's auc: 1\tvalid_1's auc: 0.934042\n",
      "Early stopping, best iteration is:\n",
      "[1758]\ttraining's auc: 0.999999\tvalid_1's auc: 0.934177\n",
      "Fold 3 | AUC: 0.9341770447287645\n",
      "Training until validation scores don't improve for 200 rounds\n",
      "[100]\ttraining's auc: 0.967385\tvalid_1's auc: 0.90515\n",
      "[200]\ttraining's auc: 0.982976\tvalid_1's auc: 0.91859\n",
      "[300]\ttraining's auc: 0.9906\tvalid_1's auc: 0.924455\n",
      "[400]\ttraining's auc: 0.994897\tvalid_1's auc: 0.927668\n",
      "[500]\ttraining's auc: 0.997241\tvalid_1's auc: 0.929477\n",
      "[600]\ttraining's auc: 0.998485\tvalid_1's auc: 0.930128\n",
      "[700]\ttraining's auc: 0.999163\tvalid_1's auc: 0.930477\n",
      "[800]\ttraining's auc: 0.999534\tvalid_1's auc: 0.930498\n",
      "[900]\ttraining's auc: 0.999745\tvalid_1's auc: 0.93018\n",
      "Early stopping, best iteration is:\n",
      "[743]\ttraining's auc: 0.999349\tvalid_1's auc: 0.930557\n",
      "Fold 4 | AUC: 0.9305567978069983\n",
      "Training until validation scores don't improve for 200 rounds\n",
      "[100]\ttraining's auc: 0.968501\tvalid_1's auc: 0.922343\n",
      "[200]\ttraining's auc: 0.983543\tvalid_1's auc: 0.932401\n",
      "[300]\ttraining's auc: 0.991566\tvalid_1's auc: 0.938451\n",
      "[400]\ttraining's auc: 0.995602\tvalid_1's auc: 0.941233\n",
      "[500]\ttraining's auc: 0.997735\tvalid_1's auc: 0.942963\n",
      "[600]\ttraining's auc: 0.998811\tvalid_1's auc: 0.94372\n",
      "[700]\ttraining's auc: 0.999383\tvalid_1's auc: 0.944189\n",
      "[800]\ttraining's auc: 0.999683\tvalid_1's auc: 0.944268\n",
      "[900]\ttraining's auc: 0.99984\tvalid_1's auc: 0.944341\n",
      "[1000]\ttraining's auc: 0.999919\tvalid_1's auc: 0.944382\n",
      "[1100]\ttraining's auc: 0.999959\tvalid_1's auc: 0.944217\n",
      "Early stopping, best iteration is:\n",
      "[978]\ttraining's auc: 0.999905\tvalid_1's auc: 0.94441\n",
      "Fold 5 | AUC: 0.9444098229635787\n",
      "\n",
      "Mean AUC = 0.9283666660666199\n",
      "Out of folds AUC = 0.9239575260234039\n"
     ]
    }
   ],
   "source": [
    "clfs=lgb_model(params=params,cv=GroupKFold(5),X=X,X_test=X_test,early_stopping_rounds=200,cols=None,categorical_feature=cat,group_feature='DT_M')"
   ]
  },
  {
   "cell_type": "code",
   "execution_count": 35,
   "metadata": {},
   "outputs": [
    {
     "data": {
      "text/plain": [
       "Index(['TransactionDT', 'TransactionAmt', 'ProductCD', 'card1', 'card2',\n",
       "       'card3', 'card4', 'card5', 'card6', 'addr1',\n",
       "       ...\n",
       "       'id_33', 'id_34', 'id_35', 'id_36', 'id_37', 'id_38', 'DeviceType',\n",
       "       'DeviceInfo', 'had_id', 'DT_M'],\n",
       "      dtype='object', length=434)"
      ]
     },
     "execution_count": 35,
     "metadata": {},
     "output_type": "execute_result"
    }
   ],
   "source": [
    "X_test.columns"
   ]
  },
  {
   "cell_type": "code",
   "execution_count": 36,
   "metadata": {},
   "outputs": [],
   "source": [
    "y_preds=np.zeros(X_test.shape[0])\n",
    "for clf in clfs:\n",
    "    y_preds+=clf.predict_proba(X_test.drop('DT_M',axis=1))[:,1]\n",
    "sub=pd.read_csv('sample_submission.csv')\n",
    "sub['isFraud']=y_preds\n",
    "sub.to_csv('./submit/sub_groupkfold.csv',index=False)"
   ]
  },
  {
   "cell_type": "markdown",
   "metadata": {},
   "source": [
    "# 对比：local cv 和线上成绩"
   ]
  },
  {
   "cell_type": "markdown",
   "metadata": {},
   "source": [
    "1、StratifiedKFold\n",
    "Mean AUC = 0.9163691077037969\n",
    "\n",
    "2、KFold\n",
    "Mean AUC = 0.9285080041641682\n",
    "\n",
    "3、TimeSeriesSplit\n",
    "Mean AUC = 0.9141553597311398\n",
    "\n",
    "4、GroupKFold\n",
    "Mean AUC = 0.9283666660666199"
   ]
  },
  {
   "cell_type": "markdown",
   "metadata": {},
   "source": [
    "主要是看mean auc，out of folds auc 参考意义不大因为不同的fold产生的model可能树的数量差异性比较大，那么进行分别预测其预测值的整体范围会有一定差距，导致 out of folds结果不准，所以实际上预测的时候需要对每一个基模型的输出进行一下尺度的变换，比如使用rank平均，使用0-1标准化尽量减少不同基模型预测值之间的差距"
   ]
  },
  {
   "cell_type": "markdown",
   "metadata": {},
   "source": [
    "然后我们看看不同交叉验证的线上成绩如何"
   ]
  },
  {
   "attachments": {
    "image.png": {
     "image/png": "[encoded data removed]"
    }
   },
   "cell_type": "markdown",
   "metadata": {},
   "source": [
    "![image.png](attachment:image.png)"
   ]
  },
  {
   "attachments": {
    "image.png": {
     "image/png": "[encoded data removed]"
    }
   },
   "cell_type": "markdown",
   "metadata": {},
   "source": [
    "![image.png](attachment:image.png)"
   ]
  },
  {
   "attachments": {
    "image.png": {
     "image/png": "[encoded data removed]"
    }
   },
   "cell_type": "markdown",
   "metadata": {},
   "source": [
    "![image.png](attachment:image.png)"
   ]
  },
  {
   "attachments": {
    "image.png": {
     "image/png": "[encoded data removed]"
    }
   },
   "cell_type": "markdown",
   "metadata": {},
   "source": [
    "![image.png](attachment:image.png)"
   ]
  },
  {
   "cell_type": "markdown",
   "metadata": {},
   "source": [
    "右边是A榜，左边是B榜，我们目前假设还在A榜，可以看到group和kfold相差不大，二者和stratifiedkfold相差较多，所以后续我们需要同时使用group和kfold两种交叉验证的方式进行比较得分"
   ]
  },
  {
   "cell_type": "markdown",
   "metadata": {},
   "source": [
    "然后我们保存一下周期DT_M，以及groupkfold下的5个模型用于后续的特征重要性分析"
   ]
  },
  {
   "cell_type": "code",
   "execution_count": 16,
   "metadata": {},
   "outputs": [],
   "source": [
    "X.to_csv('X.csv',index=False)\n",
    "X_test.to_csv('X_test.csv',index=False)\n",
    "y.to_csv('y.csv',index=False)\n",
    "pd.DataFrame(X.dtypes).to_csv('dtypes.csv',index=False)\n",
    "X.DT_M.to_csv('X_DT_M.csv')\n",
    "\n",
    "for i,clf in enumerate(clfs):\n",
    "    joblib.dump(clf,'./output/model'+'//'+str(i)+'_th '+'model '+'.pkl')"
   ]
  },
  {
   "cell_type": "code",
   "execution_count": null,
   "metadata": {},
   "outputs": [],
   "source": []
  }
 ],
 "metadata": {
  "kernelspec": {
   "display_name": "Python 3",
   "language": "python",
   "name": "python3"
  },
  "language_info": {
   "codemirror_mode": {
    "name": "ipython",
    "version": 3
   },
   "file_extension": ".py",
   "mimetype": "text/x-python",
   "name": "python",
   "nbconvert_exporter": "python",
   "pygments_lexer": "ipython3",
   "version": "3.7.4"
  },
  "toc": {
   "base_numbering": 1,
   "nav_menu": {},
   "number_sections": true,
   "sideBar": true,
   "skip_h1_title": false,
   "title_cell": "Table of Contents",
   "title_sidebar": "Contents",
   "toc_cell": false,
   "toc_position": {},
   "toc_section_display": true,
   "toc_window_display": false
  },
  "varInspector": {
   "cols": {
    "lenName": 16,
    "lenType": 16,
    "lenVar": 40
   },
   "kernels_config": {
    "python": {
     "delete_cmd_postfix": "",
     "delete_cmd_prefix": "del ",
     "library": "var_list.py",
     "varRefreshCmd": "print(var_dic_list())"
    },
    "r": {
     "delete_cmd_postfix": ") ",
     "delete_cmd_prefix": "rm(",
     "library": "var_list.r",
     "varRefreshCmd": "cat(var_dic_list()) "
    }
   },
   "types_to_exclude": [
    "module",
    "function",
    "builtin_function_or_method",
    "instance",
    "_Feature"
   ],
   "window_display": false
  }
 },
 "nbformat": 4,
 "nbformat_minor": 2
}
