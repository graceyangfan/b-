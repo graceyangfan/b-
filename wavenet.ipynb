{
 "cells": [
  {
   "cell_type": "code",
   "execution_count": 5,
   "metadata": {
    "executionInfo": {
     "elapsed": 4573,
     "status": "ok",
     "timestamp": 1604997699625,
     "user": {
      "displayName": "Yang Fan",
      "photoUrl": "https://lh3.googleusercontent.com/a-/AOh14GiInU-QnUHZapaM3Tm0K_KQavmj3Vjm_p0nYJfv=s64",
      "userId": "08384556913033281712"
     },
     "user_tz": -480
    },
    "id": "uErIlMdkoyLe"
   },
   "outputs": [],
   "source": [
    "import numpy as np\n",
    "import pandas as pd\n",
    "from sklearn.model_selection import train_test_split, KFold, StratifiedKFold\n",
    "from sklearn.metrics import f1_score"
   ]
  },
  {
   "cell_type": "code",
   "execution_count": 6,
   "metadata": {
    "executionInfo": {
     "elapsed": 4562,
     "status": "ok",
     "timestamp": 1604997699626,
     "user": {
      "displayName": "Yang Fan",
      "photoUrl": "https://lh3.googleusercontent.com/a-/AOh14GiInU-QnUHZapaM3Tm0K_KQavmj3Vjm_p0nYJfv=s64",
      "userId": "08384556913033281712"
     },
     "user_tz": -480
    },
    "id": "GYz8SU0Bpdar"
   },
   "outputs": [],
   "source": [
    "from tqdm import tqdm"
   ]
  },
  {
   "cell_type": "code",
   "execution_count": 7,
   "metadata": {
    "colab": {
     "base_uri": "https://localhost:8080/"
    },
    "executionInfo": {
     "elapsed": 4557,
     "status": "ok",
     "timestamp": 1604997699627,
     "user": {
      "displayName": "Yang Fan",
      "photoUrl": "https://lh3.googleusercontent.com/a-/AOh14GiInU-QnUHZapaM3Tm0K_KQavmj3Vjm_p0nYJfv=s64",
      "userId": "08384556913033281712"
     },
     "user_tz": -480
    },
    "id": "J5dzf2rjpiCt",
    "outputId": "6cc01494-aa81-4635-f40f-650be4693651"
   },
   "outputs": [
    {
     "name": "stdout",
     "output_type": "stream",
     "text": [
      "Drive already mounted at /content/drive; to attempt to forcibly remount, call drive.mount(\"/content/drive\", force_remount=True).\n"
     ]
    },
    {
     "data": {
      "text/plain": [
       "['Google 相册',\n",
       " 'matlab源程序',\n",
       " '破解软件',\n",
       " '一体化数值仿真.docx',\n",
       " '2D40.jpg',\n",
       " 'OpenFOAM 拉格朗日库深度解析 | OpenFOAM 成长之路.pdf',\n",
       " 'Colab Notebooks',\n",
       " 'fastai',\n",
       " '无标题文档.gdoc',\n",
       " 'train_df_feat.npy',\n",
       " 'test_df_feat.npy',\n",
       " 'train_labeled_extend_with_test.csv',\n",
       " 'model.pt']"
      ]
     },
     "execution_count": 7,
     "metadata": {
      "tags": []
     },
     "output_type": "execute_result"
    }
   ],
   "source": [
    "import os\n",
    "from google.colab import drive\n",
    "drive.mount('/content/drive')\n",
    "\n",
    "path = \"/content/drive/My Drive\"\n",
    "\n",
    "os.chdir(path)\n",
    "os.listdir(path)"
   ]
  },
  {
   "cell_type": "markdown",
   "metadata": {
    "id": "DFacqz9PppGl"
   },
   "source": [
    "## Module"
   ]
  },
  {
   "cell_type": "code",
   "execution_count": 8,
   "metadata": {
    "executionInfo": {
     "elapsed": 7199,
     "status": "ok",
     "timestamp": 1604997722124,
     "user": {
      "displayName": "Yang Fan",
      "photoUrl": "https://lh3.googleusercontent.com/a-/AOh14GiInU-QnUHZapaM3Tm0K_KQavmj3Vjm_p0nYJfv=s64",
      "userId": "08384556913033281712"
     },
     "user_tz": -480
    },
    "id": "TTmF8I7ZpmjQ"
   },
   "outputs": [],
   "source": [
    "import torch\n",
    "import torch.nn as nn\n",
    "import torch.nn.functional as F\n",
    "from tqdm import tqdm_notebook\n",
    "from torch.utils.data import DataLoader, Dataset\n",
    "from torch.autograd import Variable"
   ]
  },
  {
   "cell_type": "code",
   "execution_count": 9,
   "metadata": {
    "executionInfo": {
     "elapsed": 7192,
     "status": "ok",
     "timestamp": 1604997722125,
     "user": {
      "displayName": "Yang Fan",
      "photoUrl": "https://lh3.googleusercontent.com/a-/AOh14GiInU-QnUHZapaM3Tm0K_KQavmj3Vjm_p0nYJfv=s64",
      "userId": "08384556913033281712"
     },
     "user_tz": -480
    },
    "id": "m8RBPINWpr3m"
   },
   "outputs": [],
   "source": [
    "from IPython.display import display\n",
    "class FocalLoss(nn.Module):\n",
    "\n",
    "    def __init__(self, weight=None, reduction='mean', gamma=0, eps=1e-7):\n",
    "        super(FocalLoss, self).__init__()\n",
    "        self.gamma = gamma\n",
    "        self.eps = eps\n",
    "        self.ce = torch.nn.CrossEntropyLoss(weight=weight, reduction=reduction)\n",
    "\n",
    "    def forward(self, input, target):\n",
    "        logp = self.ce(input, target)\n",
    "        p = torch.exp(-logp)\n",
    "        loss = (1 - p) ** self.gamma * logp\n",
    "        return loss.mean()"
   ]
  },
  {
   "cell_type": "code",
   "execution_count": 10,
   "metadata": {
    "executionInfo": {
     "elapsed": 6896,
     "status": "ok",
     "timestamp": 1604997722125,
     "user": {
      "displayName": "Yang Fan",
      "photoUrl": "https://lh3.googleusercontent.com/a-/AOh14GiInU-QnUHZapaM3Tm0K_KQavmj3Vjm_p0nYJfv=s64",
      "userId": "08384556913033281712"
     },
     "user_tz": -480
    },
    "id": "B5n2qS9gp7a6"
   },
   "outputs": [],
   "source": [
    "class CausalConv1d(nn.Module):\n",
    "    \"\"\"\n",
    "    Input and output sizes will be the same.\n",
    "    \"\"\"\n",
    "    def __init__(self, in_size, out_size, kernel_size, dilation=1,stride=1):\n",
    "        super(CausalConv1d, self).__init__()\n",
    "        self.pad = (kernel_size-1) // 2 * dilation\n",
    "        self.conv1 = nn.Conv1d(in_size, out_size, kernel_size, padding=self.pad, stride=stride,dilation=dilation)\n",
    "\n",
    "    def forward(self, x):\n",
    "        x = self.conv1(x)\n",
    "        return x"
   ]
  },
  {
   "cell_type": "code",
   "execution_count": 11,
   "metadata": {
    "executionInfo": {
     "elapsed": 6309,
     "status": "ok",
     "timestamp": 1604997722126,
     "user": {
      "displayName": "Yang Fan",
      "photoUrl": "https://lh3.googleusercontent.com/a-/AOh14GiInU-QnUHZapaM3Tm0K_KQavmj3Vjm_p0nYJfv=s64",
      "userId": "08384556913033281712"
     },
     "user_tz": -480
    },
    "id": "7TzYr-2UqBIf"
   },
   "outputs": [],
   "source": [
    "class ResidualLayer(nn.Module):    \n",
    "    def __init__(self, residual_size, skip_size, dilation):\n",
    "        super(ResidualLayer, self).__init__()\n",
    "        self.conv_filter = CausalConv1d(residual_size, residual_size,\n",
    "                                         kernel_size=3, dilation=dilation)\n",
    "        self.conv_gate = CausalConv1d(residual_size, residual_size,\n",
    "                                         kernel_size=3, dilation=dilation)        \n",
    "        self.resconv1_1 = nn.Conv1d(residual_size, residual_size, kernel_size=1)\n",
    "        self.skipconv1_1 = nn.Conv1d(residual_size, skip_size, kernel_size=1)\n",
    "        \n",
    "   \n",
    "    def forward(self, x):\n",
    "        conv_filter = self.conv_filter(x)\n",
    "        conv_gate = self.conv_gate(x)  \n",
    "        fx = F.tanh(conv_filter) * F.sigmoid(conv_gate)\n",
    "        fx = self.resconv1_1(fx) \n",
    "        skip = self.skipconv1_1(fx) \n",
    "        residual = fx + x  \n",
    "        #residual=[batch,residual_size,seq_len]  skip=[batch,skip_size,seq_len]\n",
    "        return skip, residual"
   ]
  },
  {
   "cell_type": "code",
   "execution_count": 12,
   "metadata": {
    "executionInfo": {
     "elapsed": 5768,
     "status": "ok",
     "timestamp": 1604997722126,
     "user": {
      "displayName": "Yang Fan",
      "photoUrl": "https://lh3.googleusercontent.com/a-/AOh14GiInU-QnUHZapaM3Tm0K_KQavmj3Vjm_p0nYJfv=s64",
      "userId": "08384556913033281712"
     },
     "user_tz": -480
    },
    "id": "O80bZECfqGby"
   },
   "outputs": [],
   "source": [
    "class DilatedStack(nn.Module):\n",
    "    def __init__(self, residual_size, skip_size, dilation_depth):\n",
    "        super(DilatedStack, self).__init__()\n",
    "        residual_stack = [ResidualLayer(residual_size, skip_size, 2**layer)\n",
    "                         for layer in range(dilation_depth)]\n",
    "        self.residual_stack = nn.ModuleList(residual_stack)\n",
    "        \n",
    "    def forward(self, x):\n",
    "        skips = []\n",
    "        for layer in self.residual_stack:\n",
    "            skip, x = layer(x)\n",
    "            skips.append(skip.unsqueeze(0))\n",
    "            #skip =[1,batch,skip_size,seq_len]\n",
    "        return torch.cat(skips, dim=0), x  # [layers,batch,skip_size,seq_len]"
   ]
  },
  {
   "cell_type": "code",
   "execution_count": 13,
   "metadata": {
    "executionInfo": {
     "elapsed": 5272,
     "status": "ok",
     "timestamp": 1604997722126,
     "user": {
      "displayName": "Yang Fan",
      "photoUrl": "https://lh3.googleusercontent.com/a-/AOh14GiInU-QnUHZapaM3Tm0K_KQavmj3Vjm_p0nYJfv=s64",
      "userId": "08384556913033281712"
     },
     "user_tz": -480
    },
    "id": "ATLeVgeFqMCL"
   },
   "outputs": [],
   "source": [
    "class WaveNet(nn.Module):\n",
    "\n",
    "    def __init__(self,input_size,out_size,num_class, residual_size, skip_size, dilation_cycles, dilation_depth):\n",
    "\n",
    "        super(WaveNet, self).__init__()\n",
    "\n",
    "        self.input_conv = CausalConv1d(input_size,residual_size, kernel_size=3)        \n",
    "\n",
    "        self.dilated_stacks = nn.ModuleList(\n",
    "\n",
    "            [DilatedStack(residual_size, skip_size, dilation_depth)\n",
    "\n",
    "             for cycle in range(dilation_cycles)]\n",
    "\n",
    "        )\n",
    "\n",
    "        self.convout_1 = nn.Conv1d(skip_size, skip_size, kernel_size=1)\n",
    "        self.finial=nn.Linear(skip_size,num_calss)\n",
    "\n",
    "    def forward(self, x):\n",
    "       # input=[batch,seq_len,]\n",
    "\n",
    "        x = x.permute(0,2,1)# [batch,input_feature_dim, seq_len]\n",
    "\n",
    "        x = self.input_conv(x) # [batch,residual_size, seq_len]             \n",
    "\n",
    "        skip_connections = []\n",
    "\n",
    "        for cycle in self.dilated_stacks:\n",
    "\n",
    "            skips, x = cycle(x)             \n",
    "            skip_connections.append(skips)\n",
    "\n",
    "        ## skip_connection=[total_layers,batch,skip_size,seq_len]\n",
    "        skip_connections = torch.cat(skip_connections, dim=0)        \n",
    "\n",
    "        # gather all output skip connections to generate output, discard last residual output\n",
    "\n",
    "        out = skip_connections.sum(dim=0) # [batch,skip_size,seq_len]\n",
    "\n",
    "        out = F.relu(out)\n",
    "        out = self.convout_1(out) # [batch,out_size,seq_len]\n",
    "        \n",
    "        out=torch.mean(out,dim=2)#=[128,256,100]\n",
    "\n",
    "        out=self.finial(out) #[128,256,]= [128,10]\n",
    "        return out     "
   ]
  },
  {
   "cell_type": "code",
   "execution_count": 14,
   "metadata": {
    "executionInfo": {
     "elapsed": 6636,
     "status": "ok",
     "timestamp": 1604997723956,
     "user": {
      "displayName": "Yang Fan",
      "photoUrl": "https://lh3.googleusercontent.com/a-/AOh14GiInU-QnUHZapaM3Tm0K_KQavmj3Vjm_p0nYJfv=s64",
      "userId": "08384556913033281712"
     },
     "user_tz": -480
    },
    "id": "aG7WEuWkqPeI"
   },
   "outputs": [],
   "source": [
    "def initialize_model(learning_rate,input_size,out_size,num_class,residual_size,skip_size,dilation_cycles, dilation_depth,device):\n",
    "    torch.manual_seed(42)\n",
    "    \n",
    "    model=WaveNet(input_size,out_size,num_class,residual_size,skip_size,dilation_cycles, dilation_depth)\n",
    "    model.to(device)\n",
    "\n",
    "    criterion = FocalLoss(gamma=1)\n",
    "    optimizer = torch.optim.Adam(model.parameters(), lr=learning_rate,weight_decay=1e-5)\n",
    "    scheduler = torch.optim.lr_scheduler.ReduceLROnPlateau(optimizer,  patience=100, factor =0.5 ,min_lr=1e-7, eps=1e-08)\n",
    "    return model, criterion, optimizer, scheduler"
   ]
  },
  {
   "cell_type": "code",
   "execution_count": 61,
   "metadata": {
    "executionInfo": {
     "elapsed": 2439,
     "status": "ok",
     "timestamp": 1605004113008,
     "user": {
      "displayName": "Yang Fan",
      "photoUrl": "https://lh3.googleusercontent.com/a-/AOh14GiInU-QnUHZapaM3Tm0K_KQavmj3Vjm_p0nYJfv=s64",
      "userId": "08384556913033281712"
     },
     "user_tz": -480
    },
    "id": "N1bwlztyqS27"
   },
   "outputs": [],
   "source": [
    "from fastprogress import master_bar, progress_bar\n",
    "def train_net(train_loader,val_loader,num_epochs,model,criterion,optimizer,scheduler,patience,verbose,user_define_score,device):\n",
    "    valid_loss_min=np.Inf\n",
    "    patience=patience\n",
    "    current_epoch=0\n",
    "    stop=False\n",
    "    num_epochs=num_epochs\n",
    "    training_loss=[]\n",
    "    for epoch in progress_bar(range(num_epochs)): \n",
    "        train_loss=[]\n",
    "        train_score=[]\n",
    "        model.train()\n",
    "        for batch_i,(data,target) in enumerate(train_loader):\n",
    "            data, target = data.to(device), target.to(device)\n",
    "\n",
    "            optimizer.zero_grad()\n",
    "            output=model(data)\n",
    "            loss=criterion(output,target.long())\n",
    "            train_loss.append(loss.item())\n",
    "            a=target.data.cpu().numpy()\n",
    "            b=torch.argmax(F.softmax(output,dim=1),dim=1).detach().cpu().numpy()\n",
    "            train_score.append(user_define_score(a,b,average='macro'))\n",
    "            \n",
    "            loss.backward()\n",
    "            optimizer.step()\n",
    "\n",
    "        val_loss=[]\n",
    "        val_score=[]\n",
    "        for batch_i,(data,target) in enumerate(val_loader):\n",
    "            data,target=data.to(device),target.to(device)\n",
    "            output=model(data)\n",
    "            loss =criterion(output,target.long())\n",
    "            val_loss.append(loss.item())\n",
    "            a=target.data.cpu().numpy()\n",
    "            b=torch.argmax(F.softmax(output,dim=1),dim=1).detach().cpu().numpy()\n",
    "            val_score.append(user_define_score(a,b,average='macro'))\n",
    "\n",
    "\n",
    "        ##if epoch%2 ==0 and verbose:\n",
    "        print(\"{0},train loss {1},vllid loss {2}\".format(epoch,np.mean(train_loss),np.mean(val_loss)))\n",
    "          #print(f'Epoch {epoch},train loss:{np.mean(train_loss):.4f,valid loss:{np.mean(val_loss):.4f}}')\n",
    "        scheduler.step(np.mean(val_loss))\n",
    "\n",
    "\n",
    "        valid_loss=np.mean(val_loss)\n",
    "        if valid_loss<=valid_loss_min:\n",
    "            torch.save(model.state_dict(),\"model.pt\")\n",
    "            valid_loss_min=valid_loss\n",
    "            cureent_epoch=0\n",
    "        \n",
    "        if valid_loss>valid_loss_min:\n",
    "            current_epoch+=1;\n",
    "            if current_epoch>patience:\n",
    "                print(\"stropping training\")\n",
    "                stop=True\n",
    "                break\n",
    "        if stop:\n",
    "            break \n",
    "\n",
    "\n",
    "    checkpoint=torch.load(\"model.pt\")\n",
    "    model.load_state_dict(checkpoint)\n",
    "\n",
    "    return model"
   ]
  },
  {
   "cell_type": "code",
   "execution_count": 53,
   "metadata": {
    "executionInfo": {
     "elapsed": 2074,
     "status": "ok",
     "timestamp": 1605003275792,
     "user": {
      "displayName": "Yang Fan",
      "photoUrl": "https://lh3.googleusercontent.com/a-/AOh14GiInU-QnUHZapaM3Tm0K_KQavmj3Vjm_p0nYJfv=s64",
      "userId": "08384556913033281712"
     },
     "user_tz": -480
    },
    "id": "8AQqrQQ9qcKu"
   },
   "outputs": [],
   "source": [
    "def train_net_folds(X,y,test,flods,num_epochs,batch_size,patience,verbose,user_define_score,learning_rate,\n",
    "                   input_size,out_size,num_class,residual_size,skip_size,dilation_cycles, dilation_depth,device):\n",
    "\n",
    "    prediction = []\n",
    "    scores = []\n",
    "    for flod_n,(train_index,valid_index) in enumerate(flods.split(X,y)):\n",
    "        X_train, X_valid = X[train_index], X[valid_index]\n",
    "        y_train, y_valid = np.array(y)[train_index], np.array(y)[valid_index]\n",
    "        train_set = torch.utils.data.TensorDataset(torch.FloatTensor(X_train), torch.FloatTensor(y_train))\n",
    "        val_set = torch.utils.data.TensorDataset(torch.FloatTensor(X_valid), torch.FloatTensor(y_valid))\n",
    "\n",
    "        train_loader = torch.utils.data.DataLoader(train_set,batch_size=batch_size, shuffle=True)\n",
    "        val_loader = torch.utils.data.DataLoader(val_set,batch_size=batch_size)\n",
    "        \n",
    "        model, criterion, optimizer, scheduler = initialize_model(learning_rate,input_size,out_size,num_class,residual_size,skip_size,dilation_cycles, dilation_depth,device)\n",
    "        model = train_net(train_loader, val_loader,num_epochs,model, criterion, optimizer, scheduler, patience,verbose,user_define_score,device)\n",
    "        \n",
    "        y_pred_valid = []\n",
    "        for batch_i, (data, target) in enumerate(val_loader):\n",
    "            data, target = data.to(device), target.to(device)\n",
    "            p = model(data)\n",
    "            pred = torch.argmax(F.softmax(p,dim=1),dim=1).detach().cpu().numpy()\n",
    "            y_pred_valid.extend(pred)\n",
    "        sc=user_define_score(y_valid, np.array(y_pred_valid),average='macro') \n",
    "        scores.append(sc)\n",
    "        print(\"valid_score is{}\".format(sc))\n",
    "        ## predict \n",
    "        test=torch.FloatTensor(test)\n",
    "        test_loader= torch.utils.data.DataLoader(test,batch_size=batch_size,shuffle=False)\n",
    "\n",
    "        y_pred= []\n",
    "        for batch_i,data in enumerate(test_loader):\n",
    "            data= data.to(device)\n",
    "            p = model(data)\n",
    "            pred =F.softmax(p,dim=1).detach().cpu().numpy()\n",
    "            y_pred.extend(pred)\n",
    "\n",
    "        prediction.append(y_pred)\n",
    "\n",
    "    prediction=np.sum(prediction,axis=0)/len(prediction)\n",
    "    score=np.mean(scores)\n",
    "\n",
    "    print('--' * 50)\n",
    "    print('CV mean score: {0:.4f}, std: {1:.4f}.'.format(np.mean(scores), np.std(scores)))\n",
    "    print('--' * 50)\n",
    "    print(prediction.shape)\n",
    "    \n",
    "    return prediction,score"
   ]
  },
  {
   "cell_type": "code",
   "execution_count": 17,
   "metadata": {
    "colab": {
     "base_uri": "https://localhost:8080/"
    },
    "executionInfo": {
     "elapsed": 4581,
     "status": "ok",
     "timestamp": 1604997723957,
     "user": {
      "displayName": "Yang Fan",
      "photoUrl": "https://lh3.googleusercontent.com/a-/AOh14GiInU-QnUHZapaM3Tm0K_KQavmj3Vjm_p0nYJfv=s64",
      "userId": "08384556913033281712"
     },
     "user_tz": -480
    },
    "id": "9WyEEeYvqfKd",
    "outputId": "1d45523c-0a68-4c83-c40d-292d6f1310d4"
   },
   "outputs": [
    {
     "name": "stdout",
     "output_type": "stream",
     "text": [
      "/content/drive/My Drive\n"
     ]
    }
   ],
   "source": [
    "!pwd"
   ]
  },
  {
   "cell_type": "code",
   "execution_count": 18,
   "metadata": {
    "executionInfo": {
     "elapsed": 3951,
     "status": "ok",
     "timestamp": 1604997725083,
     "user": {
      "displayName": "Yang Fan",
      "photoUrl": "https://lh3.googleusercontent.com/a-/AOh14GiInU-QnUHZapaM3Tm0K_KQavmj3Vjm_p0nYJfv=s64",
      "userId": "08384556913033281712"
     },
     "user_tz": -480
    },
    "id": "m9W0JjMwqvN8"
   },
   "outputs": [],
   "source": [
    "train_feat=np.load(\"train_df_feat.npy\")"
   ]
  },
  {
   "cell_type": "code",
   "execution_count": 18,
   "metadata": {
    "executionInfo": {
     "elapsed": 3085,
     "status": "ok",
     "timestamp": 1604997725083,
     "user": {
      "displayName": "Yang Fan",
      "photoUrl": "https://lh3.googleusercontent.com/a-/AOh14GiInU-QnUHZapaM3Tm0K_KQavmj3Vjm_p0nYJfv=s64",
      "userId": "08384556913033281712"
     },
     "user_tz": -480
    },
    "id": "pZtwFqzt_3td"
   },
   "outputs": [],
   "source": []
  },
  {
   "cell_type": "code",
   "execution_count": 19,
   "metadata": {
    "executionInfo": {
     "elapsed": 2356,
     "status": "ok",
     "timestamp": 1604997725083,
     "user": {
      "displayName": "Yang Fan",
      "photoUrl": "https://lh3.googleusercontent.com/a-/AOh14GiInU-QnUHZapaM3Tm0K_KQavmj3Vjm_p0nYJfv=s64",
      "userId": "08384556913033281712"
     },
     "user_tz": -480
    },
    "id": "ce06qtTLrEGC"
   },
   "outputs": [],
   "source": [
    "test_feat=np.load(\"test_df_feat.npy\")"
   ]
  },
  {
   "cell_type": "code",
   "execution_count": 20,
   "metadata": {
    "colab": {
     "base_uri": "https://localhost:8080/"
    },
    "executionInfo": {
     "elapsed": 3010,
     "status": "ok",
     "timestamp": 1604997726516,
     "user": {
      "displayName": "Yang Fan",
      "photoUrl": "https://lh3.googleusercontent.com/a-/AOh14GiInU-QnUHZapaM3Tm0K_KQavmj3Vjm_p0nYJfv=s64",
      "userId": "08384556913033281712"
     },
     "user_tz": -480
    },
    "id": "kap8M5ifrhro",
    "outputId": "0c035f23-6659-44da-9bb7-b06ebe85e23d"
   },
   "outputs": [
    {
     "data": {
      "text/plain": [
       "array([ 0.0293984 ,  0.00309613,  0.04164624, -0.06482507, -0.12415203,\n",
       "        0.06881723, -0.11917498,  0.19741213, -0.08306552, -0.02157832,\n",
       "       -0.05257238,  0.03810216, -0.05991602,  0.20648812,  0.10207941,\n",
       "        0.0265471 ,  0.16867273, -0.07933275, -0.01322009, -0.04931647,\n",
       "        0.02572281, -0.03265868, -0.15895757, -0.06183881, -0.11126047,\n",
       "       -0.11303195,  0.08269095, -0.234303  ,  0.04077412,  0.02167152,\n",
       "        0.23450379, -0.02913769, -0.07981101, -0.11929078, -0.00844684,\n",
       "        0.08854344, -0.0299254 ,  0.06171508, -0.1125944 ,  0.01242304,\n",
       "       -0.06977975, -0.1811374 ,  0.01865262, -0.03779281, -0.0566307 ,\n",
       "        0.07765503,  0.04205372, -0.12768736,  0.11262918,  0.1161378 ,\n",
       "        0.14323595, -0.09277142, -0.1586106 ,  0.01528   , -0.17140804,\n",
       "       -0.22404848,  0.07873732, -0.09596794,  0.06750242, -0.07185113,\n",
       "       -0.09187223, -0.0332422 ,  0.01409989, -0.03288124, -0.06557307,\n",
       "       -0.07158167,  0.03979059,  0.0268771 ,  0.16183574,  0.11040393,\n",
       "       -0.00657567, -0.07547089, -0.15137272, -0.03205995,  0.1659169 ,\n",
       "       -0.1510124 , -0.00119785, -0.07474255,  0.06265353, -0.06795648,\n",
       "       -0.06678797, -0.01954394, -0.18056314,  0.10355821, -0.2461096 ,\n",
       "        0.05636429, -0.21527046, -0.06410977, -0.03597968,  0.04277118,\n",
       "       -0.02323072,  0.01921536, -0.0209145 , -0.01699337,  0.05666251,\n",
       "        0.00611942, -0.09104767,  0.07056101, -0.00707899, -0.03025927],\n",
       "      dtype=float32)"
      ]
     },
     "execution_count": 20,
     "metadata": {
      "tags": []
     },
     "output_type": "execute_result"
    }
   ],
   "source": [
    "test_feat[0]"
   ]
  },
  {
   "cell_type": "code",
   "execution_count": 21,
   "metadata": {
    "executionInfo": {
     "elapsed": 6661,
     "status": "ok",
     "timestamp": 1604997730956,
     "user": {
      "displayName": "Yang Fan",
      "photoUrl": "https://lh3.googleusercontent.com/a-/AOh14GiInU-QnUHZapaM3Tm0K_KQavmj3Vjm_p0nYJfv=s64",
      "userId": "08384556913033281712"
     },
     "user_tz": -480
    },
    "id": "DkkGE-EOvwXg"
   },
   "outputs": [],
   "source": [
    "train_df=pd.read_csv(\"train_labeled_extend_with_test.csv\")"
   ]
  },
  {
   "cell_type": "code",
   "execution_count": 22,
   "metadata": {
    "colab": {
     "base_uri": "https://localhost:8080/",
     "height": 204
    },
    "executionInfo": {
     "elapsed": 5660,
     "status": "ok",
     "timestamp": 1604997730957,
     "user": {
      "displayName": "Yang Fan",
      "photoUrl": "https://lh3.googleusercontent.com/a-/AOh14GiInU-QnUHZapaM3Tm0K_KQavmj3Vjm_p0nYJfv=s64",
      "userId": "08384556913033281712"
     },
     "user_tz": -480
    },
    "id": "CeVOGaguv9by",
    "outputId": "c1a3d3d3-6ccd-40a0-effc-f9ad2368f3a5"
   },
   "outputs": [
    {
     "data": {
      "text/html": [
       "<div>\n",
       "<style scoped>\n",
       "    .dataframe tbody tr th:only-of-type {\n",
       "        vertical-align: middle;\n",
       "    }\n",
       "\n",
       "    .dataframe tbody tr th {\n",
       "        vertical-align: top;\n",
       "    }\n",
       "\n",
       "    .dataframe thead th {\n",
       "        text-align: right;\n",
       "    }\n",
       "</style>\n",
       "<table border=\"1\" class=\"dataframe\">\n",
       "  <thead>\n",
       "    <tr style=\"text-align: right;\">\n",
       "      <th></th>\n",
       "      <th>label_ft</th>\n",
       "      <th>num_label</th>\n",
       "      <th>text</th>\n",
       "    </tr>\n",
       "  </thead>\n",
       "  <tbody>\n",
       "    <tr>\n",
       "      <th>0</th>\n",
       "      <td>__label__3</td>\n",
       "      <td>3</td>\n",
       "      <td>453 27186 74256 2235 27 3346 109827 11887 4990...</td>\n",
       "    </tr>\n",
       "    <tr>\n",
       "      <th>1</th>\n",
       "      <td>__label__2</td>\n",
       "      <td>2</td>\n",
       "      <td>24359 267863 5111 46 913 267 39 267 81 28 157 ...</td>\n",
       "    </tr>\n",
       "    <tr>\n",
       "      <th>2</th>\n",
       "      <td>__label__3</td>\n",
       "      <td>3</td>\n",
       "      <td>2741 220 44 28 1 351 14742 2459 8 273 6313 413...</td>\n",
       "    </tr>\n",
       "    <tr>\n",
       "      <th>3</th>\n",
       "      <td>__label__5</td>\n",
       "      <td>5</td>\n",
       "      <td>10564 5360 27 11660 108490 29159 8273 1 16369 ...</td>\n",
       "    </tr>\n",
       "    <tr>\n",
       "      <th>4</th>\n",
       "      <td>__label__3</td>\n",
       "      <td>3</td>\n",
       "      <td>282 10564 14810 4279 607 44666 8702 126 90069 ...</td>\n",
       "    </tr>\n",
       "  </tbody>\n",
       "</table>\n",
       "</div>"
      ],
      "text/plain": [
       "     label_ft  num_label                                               text\n",
       "0  __label__3          3  453 27186 74256 2235 27 3346 109827 11887 4990...\n",
       "1  __label__2          2  24359 267863 5111 46 913 267 39 267 81 28 157 ...\n",
       "2  __label__3          3  2741 220 44 28 1 351 14742 2459 8 273 6313 413...\n",
       "3  __label__5          5  10564 5360 27 11660 108490 29159 8273 1 16369 ...\n",
       "4  __label__3          3  282 10564 14810 4279 607 44666 8702 126 90069 ..."
      ]
     },
     "execution_count": 22,
     "metadata": {
      "tags": []
     },
     "output_type": "execute_result"
    }
   ],
   "source": [
    "train_df.head()"
   ]
  },
  {
   "cell_type": "code",
   "execution_count": 23,
   "metadata": {
    "executionInfo": {
     "elapsed": 3956,
     "status": "ok",
     "timestamp": 1604997730958,
     "user": {
      "displayName": "Yang Fan",
      "photoUrl": "https://lh3.googleusercontent.com/a-/AOh14GiInU-QnUHZapaM3Tm0K_KQavmj3Vjm_p0nYJfv=s64",
      "userId": "08384556913033281712"
     },
     "user_tz": -480
    },
    "id": "GU80_ArBrnCV"
   },
   "outputs": [],
   "source": [
    "X=[]\n",
    "for item in train_feat:\n",
    "    it=np.array(item.flatten())\n",
    "    it=it.reshape(len(it),1)\n",
    "    X.append(it)\n",
    "X_test=[]\n",
    "for item in test_feat:\n",
    "    it=np.array(item.flatten())\n",
    "    it=it.reshape(len(it),1)\n",
    "    X_test.append(it)\n",
    "y=np.array(train_df[\"num_label\"])\n",
    "X=np.array(X)\n",
    "y=np.array(y)\n"
   ]
  },
  {
   "cell_type": "code",
   "execution_count": 24,
   "metadata": {
    "colab": {
     "base_uri": "https://localhost:8080/",
     "height": 34
    },
    "executionInfo": {
     "elapsed": 1977,
     "status": "ok",
     "timestamp": 1604997730958,
     "user": {
      "displayName": "Yang Fan",
      "photoUrl": "https://lh3.googleusercontent.com/a-/AOh14GiInU-QnUHZapaM3Tm0K_KQavmj3Vjm_p0nYJfv=s64",
      "userId": "08384556913033281712"
     },
     "user_tz": -480
    },
    "id": "xzuybMPp2lcl",
    "outputId": "b4c8879b-3f6f-4738-f5e3-377384222a9f"
   },
   "outputs": [
    {
     "data": {
      "application/vnd.google.colaboratory.intrinsic+json": {
       "type": "string"
      },
      "text/plain": [
       "'Tesla P100-PCIE-16GB'"
      ]
     },
     "execution_count": 24,
     "metadata": {
      "tags": []
     },
     "output_type": "execute_result"
    }
   ],
   "source": [
    "torch.cuda.get_device_name(0)"
   ]
  },
  {
   "cell_type": "code",
   "execution_count": 25,
   "metadata": {
    "executionInfo": {
     "elapsed": 2766,
     "status": "ok",
     "timestamp": 1604997736698,
     "user": {
      "displayName": "Yang Fan",
      "photoUrl": "https://lh3.googleusercontent.com/a-/AOh14GiInU-QnUHZapaM3Tm0K_KQavmj3Vjm_p0nYJfv=s64",
      "userId": "08384556913033281712"
     },
     "user_tz": -480
    },
    "id": "dJ2Qv_sUBATX"
   },
   "outputs": [],
   "source": [
    "device = torch.device('cuda' if torch.cuda.is_available() else 'cpu')"
   ]
  },
  {
   "cell_type": "code",
   "execution_count": 63,
   "metadata": {
    "colab": {
     "base_uri": "https://localhost:8080/",
     "height": 1000
    },
    "executionInfo": {
     "elapsed": 2830183,
     "status": "ok",
     "timestamp": 1605007725249,
     "user": {
      "displayName": "Yang Fan",
      "photoUrl": "https://lh3.googleusercontent.com/a-/AOh14GiInU-QnUHZapaM3Tm0K_KQavmj3Vjm_p0nYJfv=s64",
      "userId": "08384556913033281712"
     },
     "user_tz": -480
    },
    "id": "_iLG_P1luNgq",
    "outputId": "92185272-6cca-4e3e-ddd9-d85673eaa2cc"
   },
   "outputs": [
    {
     "data": {
      "text/html": [
       "\n",
       "    <div>\n",
       "        <style>\n",
       "            /* Turns off some styling */\n",
       "            progress {\n",
       "                /* gets rid of default border in Firefox and Opera. */\n",
       "                border: none;\n",
       "                /* Needs to be in here for Safari polyfill so background images work as expected. */\n",
       "                background-size: auto;\n",
       "            }\n",
       "            .progress-bar-interrupted, .progress-bar-interrupted::-webkit-progress-bar {\n",
       "                background: #F44336;\n",
       "            }\n",
       "        </style>\n",
       "      <progress value='10' class='' max='10' style='width:300px; height:20px; vertical-align: middle;'></progress>\n",
       "      100.00% [10/10 09:21<00:00]\n",
       "    </div>\n",
       "    "
      ],
      "text/plain": [
       "<IPython.core.display.HTML object>"
      ]
     },
     "metadata": {
      "tags": []
     },
     "output_type": "display_data"
    },
    {
     "name": "stderr",
     "output_type": "stream",
     "text": [
      "/usr/local/lib/python3.6/dist-packages/torch/nn/functional.py:1628: UserWarning: nn.functional.tanh is deprecated. Use torch.tanh instead.\n",
      "  warnings.warn(\"nn.functional.tanh is deprecated. Use torch.tanh instead.\")\n",
      "/usr/local/lib/python3.6/dist-packages/torch/nn/functional.py:1639: UserWarning: nn.functional.sigmoid is deprecated. Use torch.sigmoid instead.\n",
      "  warnings.warn(\"nn.functional.sigmoid is deprecated. Use torch.sigmoid instead.\")\n"
     ]
    },
    {
     "name": "stdout",
     "output_type": "stream",
     "text": [
      "0,train loss 2.0643786863496683,vllid loss 2.0597791684571134\n",
      "1,train loss 1.8795890641019672,vllid loss 1.3314674044809034\n",
      "2,train loss 0.5039821517355038,vllid loss 0.24242045473988338\n",
      "3,train loss 0.1851551365257916,vllid loss 0.24848382938052377\n",
      "4,train loss 0.1305857094110183,vllid loss 0.28080822100802777\n",
      "5,train loss 0.10625628552166118,vllid loss 0.13428846842819644\n",
      "6,train loss 0.0948733228617762,vllid loss 0.13600861749321383\n",
      "7,train loss 0.08768489028545563,vllid loss 0.15506862846743916\n",
      "8,train loss 0.07750566753576386,vllid loss 0.1537049678655001\n",
      "9,train loss 0.06901399251023393,vllid loss 0.12088127929206577\n",
      "valid_score is0.8986566673669092\n"
     ]
    },
    {
     "data": {
      "text/html": [
       "\n",
       "    <div>\n",
       "        <style>\n",
       "            /* Turns off some styling */\n",
       "            progress {\n",
       "                /* gets rid of default border in Firefox and Opera. */\n",
       "                border: none;\n",
       "                /* Needs to be in here for Safari polyfill so background images work as expected. */\n",
       "                background-size: auto;\n",
       "            }\n",
       "            .progress-bar-interrupted, .progress-bar-interrupted::-webkit-progress-bar {\n",
       "                background: #F44336;\n",
       "            }\n",
       "        </style>\n",
       "      <progress value='10' class='' max='10' style='width:300px; height:20px; vertical-align: middle;'></progress>\n",
       "      100.00% [10/10 09:22<00:00]\n",
       "    </div>\n",
       "    "
      ],
      "text/plain": [
       "<IPython.core.display.HTML object>"
      ]
     },
     "metadata": {
      "tags": []
     },
     "output_type": "display_data"
    },
    {
     "name": "stdout",
     "output_type": "stream",
     "text": [
      "0,train loss 1.524720194847436,vllid loss 0.44323737338505764\n",
      "1,train loss 0.2590239995292255,vllid loss 0.192740399863631\n",
      "2,train loss 0.1492945881826537,vllid loss 0.1878271201132266\n",
      "3,train loss 0.11162747205247615,vllid loss 0.15692275051798632\n",
      "4,train loss 0.09241479550892452,vllid loss 0.14127378413198335\n",
      "5,train loss 0.08345594648221594,vllid loss 0.12788715943448767\n",
      "6,train loss 0.07677432749862217,vllid loss 0.15430622694510665\n",
      "7,train loss 0.07334227925743858,vllid loss 0.1049750223984286\n",
      "8,train loss 0.06893648486584425,vllid loss 0.13140174385876224\n",
      "9,train loss 0.06270938281552249,vllid loss 0.11159493569259642\n",
      "valid_score is0.9088249979284685\n"
     ]
    },
    {
     "data": {
      "text/html": [
       "\n",
       "    <div>\n",
       "        <style>\n",
       "            /* Turns off some styling */\n",
       "            progress {\n",
       "                /* gets rid of default border in Firefox and Opera. */\n",
       "                border: none;\n",
       "                /* Needs to be in here for Safari polyfill so background images work as expected. */\n",
       "                background-size: auto;\n",
       "            }\n",
       "            .progress-bar-interrupted, .progress-bar-interrupted::-webkit-progress-bar {\n",
       "                background: #F44336;\n",
       "            }\n",
       "        </style>\n",
       "      <progress value='10' class='' max='10' style='width:300px; height:20px; vertical-align: middle;'></progress>\n",
       "      100.00% [10/10 09:22<00:00]\n",
       "    </div>\n",
       "    "
      ],
      "text/plain": [
       "<IPython.core.display.HTML object>"
      ]
     },
     "metadata": {
      "tags": []
     },
     "output_type": "display_data"
    },
    {
     "name": "stdout",
     "output_type": "stream",
     "text": [
      "0,train loss 1.5018141750055503,vllid loss 0.46148253584741267\n",
      "1,train loss 0.3044990985942979,vllid loss 0.2258655984400301\n",
      "2,train loss 0.1726480471698261,vllid loss 0.238761557396301\n",
      "3,train loss 0.12238698889001842,vllid loss 0.13442487266886058\n",
      "4,train loss 0.10524507693323806,vllid loss 0.1275095752063608\n",
      "5,train loss 0.09314087835062707,vllid loss 0.12948196382895213\n",
      "6,train loss 0.0736751417978353,vllid loss 0.1539891346655686\n",
      "7,train loss 0.06940467024819469,vllid loss 0.09781270348078881\n",
      "8,train loss 0.0682717591117455,vllid loss 0.15461817248010887\n",
      "9,train loss 0.061314811234706335,vllid loss 0.1057971764632619\n",
      "valid_score is0.9139081283558795\n"
     ]
    },
    {
     "data": {
      "text/html": [
       "\n",
       "    <div>\n",
       "        <style>\n",
       "            /* Turns off some styling */\n",
       "            progress {\n",
       "                /* gets rid of default border in Firefox and Opera. */\n",
       "                border: none;\n",
       "                /* Needs to be in here for Safari polyfill so background images work as expected. */\n",
       "                background-size: auto;\n",
       "            }\n",
       "            .progress-bar-interrupted, .progress-bar-interrupted::-webkit-progress-bar {\n",
       "                background: #F44336;\n",
       "            }\n",
       "        </style>\n",
       "      <progress value='10' class='' max='10' style='width:300px; height:20px; vertical-align: middle;'></progress>\n",
       "      100.00% [10/10 09:22<00:00]\n",
       "    </div>\n",
       "    "
      ],
      "text/plain": [
       "<IPython.core.display.HTML object>"
      ]
     },
     "metadata": {
      "tags": []
     },
     "output_type": "display_data"
    },
    {
     "name": "stdout",
     "output_type": "stream",
     "text": [
      "0,train loss 1.9452132038029057,vllid loss 1.4371372371591546\n",
      "1,train loss 0.5042292682951031,vllid loss 0.23535757353629477\n",
      "2,train loss 0.17554925659274798,vllid loss 0.1977121618085651\n",
      "3,train loss 0.13496630463116574,vllid loss 0.14852187064005642\n",
      "4,train loss 0.11680848923112665,vllid loss 0.1808423092213249\n",
      "5,train loss 0.1001815542006348,vllid loss 0.1386610390418159\n",
      "6,train loss 0.08921401368358707,vllid loss 0.13122458029688605\n",
      "7,train loss 0.08240300521877095,vllid loss 0.14224166249836323\n",
      "8,train loss 0.07653170754766528,vllid loss 0.13716138880299303\n",
      "9,train loss 0.07186226089889149,vllid loss 0.14094824069968215\n",
      "valid_score is0.8938044002992067\n"
     ]
    },
    {
     "data": {
      "text/html": [
       "\n",
       "    <div>\n",
       "        <style>\n",
       "            /* Turns off some styling */\n",
       "            progress {\n",
       "                /* gets rid of default border in Firefox and Opera. */\n",
       "                border: none;\n",
       "                /* Needs to be in here for Safari polyfill so background images work as expected. */\n",
       "                background-size: auto;\n",
       "            }\n",
       "            .progress-bar-interrupted, .progress-bar-interrupted::-webkit-progress-bar {\n",
       "                background: #F44336;\n",
       "            }\n",
       "        </style>\n",
       "      <progress value='10' class='' max='10' style='width:300px; height:20px; vertical-align: middle;'></progress>\n",
       "      100.00% [10/10 09:21<00:00]\n",
       "    </div>\n",
       "    "
      ],
      "text/plain": [
       "<IPython.core.display.HTML object>"
      ]
     },
     "metadata": {
      "tags": []
     },
     "output_type": "display_data"
    },
    {
     "name": "stdout",
     "output_type": "stream",
     "text": [
      "0,train loss 1.5414221661913428,vllid loss 0.42136337211535824\n",
      "1,train loss 0.24733147549259696,vllid loss 0.2482414518568104\n",
      "2,train loss 0.14585630157887133,vllid loss 0.16951280649218167\n",
      "3,train loss 0.11037071876609422,vllid loss 0.16288678902539336\n",
      "4,train loss 0.09384430127564787,vllid loss 0.1340929188863224\n",
      "5,train loss 0.08116168514737543,vllid loss 0.12950073208807597\n",
      "6,train loss 0.07635934041898366,vllid loss 0.1232980043267905\n",
      "7,train loss 0.06633343263918338,vllid loss 0.11672981553091367\n",
      "8,train loss 0.06867502197984736,vllid loss 0.12085462598989452\n",
      "9,train loss 0.06511982344844029,vllid loss 0.11002364600833345\n",
      "valid_score is0.9033570839491402\n",
      "----------------------------------------------------------------------------------------------------\n",
      "CV mean score: 0.9037, std: 0.0071.\n",
      "----------------------------------------------------------------------------------------------------\n",
      "(20000, 10)\n"
     ]
    }
   ],
   "source": [
    "user_error=f1_score\n",
    "flods=StratifiedKFold(n_splits=5, random_state=7,shuffle=True) \n",
    "num_epochs=10\n",
    "batch_size=128\n",
    "patience=500\n",
    "verbose=False\n",
    "user_define_score=user_error\n",
    "learning_rate=1e-3\n",
    "input_size=1\n",
    "out_size=1\n",
    "num_calss=10\n",
    "residual_size=128\n",
    "skip_size=128\n",
    "dilation_cycles=2\n",
    "dilation_depth=3\n",
    "predcit_results=[]\n",
    "score=[]\n",
    "predcit_results,score=train_net_folds(X,y,X_test,flods,num_epochs,batch_size,patience,verbose,user_define_score,learning_rate,\n",
    "                   input_size,out_size,num_calss,residual_size,skip_size,dilation_cycles, dilation_depth,device)"
   ]
  },
  {
   "cell_type": "code",
   "execution_count": 1,
   "metadata": {
    "colab": {
     "base_uri": "https://localhost:8080/",
     "height": 203
    },
    "executionInfo": {
     "elapsed": 1193,
     "status": "error",
     "timestamp": 1605010988216,
     "user": {
      "displayName": "Yang Fan",
      "photoUrl": "https://lh3.googleusercontent.com/a-/AOh14GiInU-QnUHZapaM3Tm0K_KQavmj3Vjm_p0nYJfv=s64",
      "userId": "08384556913033281712"
     },
     "user_tz": -480
    },
    "id": "c-D4vYu9l3Ck",
    "outputId": "606061ab-62a9-40ac-9cf4-5e7b6189da60"
   },
   "outputs": [
    {
     "ename": "NameError",
     "evalue": "ignored",
     "output_type": "error",
     "traceback": [
      "\u001b[0;31m---------------------------------------------------------------------------\u001b[0m",
      "\u001b[0;31mNameError\u001b[0m                                 Traceback (most recent call last)",
      "\u001b[0;32m<ipython-input-1-38353ed2b447>\u001b[0m in \u001b[0;36m<module>\u001b[0;34m()\u001b[0m\n\u001b[0;32m----> 1\u001b[0;31m \u001b[0mtest_df\u001b[0m\u001b[0;34m=\u001b[0m\u001b[0mpd\u001b[0m\u001b[0;34m.\u001b[0m\u001b[0mDataFrame\u001b[0m\u001b[0;34m(\u001b[0m\u001b[0;34m)\u001b[0m\u001b[0;34m\u001b[0m\u001b[0;34m\u001b[0m\u001b[0m\n\u001b[0m\u001b[1;32m      2\u001b[0m \u001b[0mtest_df\u001b[0m\u001b[0;34m[\u001b[0m\u001b[0;34m\"id\"\u001b[0m\u001b[0;34m]\u001b[0m\u001b[0;34m=\u001b[0m\u001b[0mrange\u001b[0m\u001b[0;34m(\u001b[0m\u001b[0mlen\u001b[0m\u001b[0;34m(\u001b[0m\u001b[0mtest_feat\u001b[0m\u001b[0;34m)\u001b[0m\u001b[0;34m)\u001b[0m\u001b[0;34m\u001b[0m\u001b[0;34m\u001b[0m\u001b[0m\n\u001b[1;32m      3\u001b[0m \u001b[0mtest_df\u001b[0m\u001b[0;34m[\u001b[0m\u001b[0;34m\"num_label\"\u001b[0m\u001b[0;34m]\u001b[0m\u001b[0;34m=\u001b[0m\u001b[0mtorch\u001b[0m\u001b[0;34m.\u001b[0m\u001b[0margmax\u001b[0m\u001b[0;34m(\u001b[0m\u001b[0mtorch\u001b[0m\u001b[0;34m.\u001b[0m\u001b[0mFloatTensor\u001b[0m\u001b[0;34m(\u001b[0m\u001b[0mpredcit_results\u001b[0m\u001b[0;34m)\u001b[0m\u001b[0;34m,\u001b[0m\u001b[0mdim\u001b[0m\u001b[0;34m=\u001b[0m\u001b[0;36m1\u001b[0m\u001b[0;34m)\u001b[0m\u001b[0;34m.\u001b[0m\u001b[0mnumpy\u001b[0m\u001b[0;34m(\u001b[0m\u001b[0;34m)\u001b[0m\u001b[0;34m\u001b[0m\u001b[0;34m\u001b[0m\u001b[0m\n",
      "\u001b[0;31mNameError\u001b[0m: name 'pd' is not defined"
     ]
    }
   ],
   "source": [
    "test_df=pd.DataFrame()\n",
    "test_df[\"id\"]=range(len(test_feat))\n",
    "test_df[\"num_label\"]=torch.argmax(torch.FloatTensor(predcit_results),dim=1).numpy()"
   ]
  },
  {
   "cell_type": "code",
   "execution_count": 65,
   "metadata": {
    "colab": {
     "base_uri": "https://localhost:8080/",
     "height": 204
    },
    "executionInfo": {
     "elapsed": 2827122,
     "status": "ok",
     "timestamp": 1605007725254,
     "user": {
      "displayName": "Yang Fan",
      "photoUrl": "https://lh3.googleusercontent.com/a-/AOh14GiInU-QnUHZapaM3Tm0K_KQavmj3Vjm_p0nYJfv=s64",
      "userId": "08384556913033281712"
     },
     "user_tz": -480
    },
    "id": "HGue2ewwnHl7",
    "outputId": "788f1887-6d0a-41b3-f52d-f0f419367e29"
   },
   "outputs": [
    {
     "data": {
      "text/html": [
       "<div>\n",
       "<style scoped>\n",
       "    .dataframe tbody tr th:only-of-type {\n",
       "        vertical-align: middle;\n",
       "    }\n",
       "\n",
       "    .dataframe tbody tr th {\n",
       "        vertical-align: top;\n",
       "    }\n",
       "\n",
       "    .dataframe thead th {\n",
       "        text-align: right;\n",
       "    }\n",
       "</style>\n",
       "<table border=\"1\" class=\"dataframe\">\n",
       "  <thead>\n",
       "    <tr style=\"text-align: right;\">\n",
       "      <th></th>\n",
       "      <th>id</th>\n",
       "      <th>num_label</th>\n",
       "    </tr>\n",
       "  </thead>\n",
       "  <tbody>\n",
       "    <tr>\n",
       "      <th>0</th>\n",
       "      <td>0</td>\n",
       "      <td>7</td>\n",
       "    </tr>\n",
       "    <tr>\n",
       "      <th>1</th>\n",
       "      <td>1</td>\n",
       "      <td>9</td>\n",
       "    </tr>\n",
       "    <tr>\n",
       "      <th>2</th>\n",
       "      <td>2</td>\n",
       "      <td>2</td>\n",
       "    </tr>\n",
       "    <tr>\n",
       "      <th>3</th>\n",
       "      <td>3</td>\n",
       "      <td>2</td>\n",
       "    </tr>\n",
       "    <tr>\n",
       "      <th>4</th>\n",
       "      <td>4</td>\n",
       "      <td>7</td>\n",
       "    </tr>\n",
       "  </tbody>\n",
       "</table>\n",
       "</div>"
      ],
      "text/plain": [
       "   id  num_label\n",
       "0   0          7\n",
       "1   1          9\n",
       "2   2          2\n",
       "3   3          2\n",
       "4   4          7"
      ]
     },
     "execution_count": 65,
     "metadata": {
      "tags": []
     },
     "output_type": "execute_result"
    }
   ],
   "source": [
    "test_df.head()"
   ]
  },
  {
   "cell_type": "code",
   "execution_count": 66,
   "metadata": {
    "executionInfo": {
     "elapsed": 2826699,
     "status": "ok",
     "timestamp": 1605007725254,
     "user": {
      "displayName": "Yang Fan",
      "photoUrl": "https://lh3.googleusercontent.com/a-/AOh14GiInU-QnUHZapaM3Tm0K_KQavmj3Vjm_p0nYJfv=s64",
      "userId": "08384556913033281712"
     },
     "user_tz": -480
    },
    "id": "2czbPbCvmH3z"
   },
   "outputs": [],
   "source": [
    "def name2label_conv(data):\n",
    "    name2label={\n",
    "        \"财经\":0,\"房产\":1,\"家居\":2,\"教育\":3,\"科技\":4,\"时尚\":5,\"时政\":6,\"游戏\":7,\"娱乐\":8,\"体育\":9\n",
    "    }\n",
    "    data[\"num_label\"]=data[\"class_label\"].apply(lambda x: name2label[x])\n",
    "    return data"
   ]
  },
  {
   "cell_type": "code",
   "execution_count": 67,
   "metadata": {
    "executionInfo": {
     "elapsed": 2826212,
     "status": "ok",
     "timestamp": 1605007725255,
     "user": {
      "displayName": "Yang Fan",
      "photoUrl": "https://lh3.googleusercontent.com/a-/AOh14GiInU-QnUHZapaM3Tm0K_KQavmj3Vjm_p0nYJfv=s64",
      "userId": "08384556913033281712"
     },
     "user_tz": -480
    },
    "id": "iMJJBFERmfsK"
   },
   "outputs": [],
   "source": [
    "def label2name_conv(data):\n",
    "    label2name={0: '财经',\n",
    "     1: '房产',\n",
    "     2: '家居',\n",
    "     3: '教育',\n",
    "     4: '科技',\n",
    "     5: '时尚',\n",
    "     6: '时政',\n",
    "     7: '游戏',\n",
    "     8: '娱乐',\n",
    "     9: '体育'}\n",
    "    data[\"class_label\"]=data[\"num_label\"].apply(lambda x: label2name[x])\n",
    "    return data"
   ]
  },
  {
   "cell_type": "code",
   "execution_count": 68,
   "metadata": {
    "executionInfo": {
     "elapsed": 2825705,
     "status": "ok",
     "timestamp": 1605007725256,
     "user": {
      "displayName": "Yang Fan",
      "photoUrl": "https://lh3.googleusercontent.com/a-/AOh14GiInU-QnUHZapaM3Tm0K_KQavmj3Vjm_p0nYJfv=s64",
      "userId": "08384556913033281712"
     },
     "user_tz": -480
    },
    "id": "ES42MjqRmjGC"
   },
   "outputs": [],
   "source": [
    "def label2level_conv(data):\n",
    "    level={\"财经\":\"高风险\",\n",
    "           \"房产\":\"中风险\",\n",
    "           \"家居\":\"可公开\",\n",
    "           \"教育\":\"低风险\",\n",
    "           \"科技\":\"中风险\",\n",
    "           \"时尚\":\"低风险\",\n",
    "           \"时政\":\"高风险\",\n",
    "           \"游戏\":\"低风险\",\n",
    "           \"娱乐\":\"可公开\",\n",
    "           \"体育\":\"可公开\"}\n",
    "    data[\"rank_label\"]=data[\"class_label\"].apply(lambda x: level[x])\n",
    "    return data"
   ]
  },
  {
   "cell_type": "code",
   "execution_count": 69,
   "metadata": {
    "executionInfo": {
     "elapsed": 2825030,
     "status": "ok",
     "timestamp": 1605007725257,
     "user": {
      "displayName": "Yang Fan",
      "photoUrl": "https://lh3.googleusercontent.com/a-/AOh14GiInU-QnUHZapaM3Tm0K_KQavmj3Vjm_p0nYJfv=s64",
      "userId": "08384556913033281712"
     },
     "user_tz": -480
    },
    "id": "GeAhVxT7mlKn"
   },
   "outputs": [],
   "source": [
    "def label2level_conv(data):\n",
    "    level={\"财经\":\"高风险\",\n",
    "           \"房产\":\"中风险\",\n",
    "           \"家居\":\"可公开\",\n",
    "           \"教育\":\"低风险\",\n",
    "           \"科技\":\"中风险\",\n",
    "           \"时尚\":\"低风险\",\n",
    "           \"时政\":\"高风险\",\n",
    "           \"游戏\":\"低风险\",\n",
    "           \"娱乐\":\"可公开\",\n",
    "           \"体育\":\"可公开\"}\n",
    "    data[\"rank_label\"]=data[\"class_label\"].apply(lambda x: level[x])\n",
    "    return data"
   ]
  },
  {
   "cell_type": "code",
   "execution_count": 70,
   "metadata": {
    "executionInfo": {
     "elapsed": 2825004,
     "status": "ok",
     "timestamp": 1605007725258,
     "user": {
      "displayName": "Yang Fan",
      "photoUrl": "https://lh3.googleusercontent.com/a-/AOh14GiInU-QnUHZapaM3Tm0K_KQavmj3Vjm_p0nYJfv=s64",
      "userId": "08384556913033281712"
     },
     "user_tz": -480
    },
    "id": "DcYnw-eYmnRC"
   },
   "outputs": [],
   "source": [
    "def submit(data,filename):\n",
    "    data=label2name_conv(data)\n",
    "    data=label2level_conv(data)\n",
    "    data=data[[\"id\",\"class_label\",\"rank_label\"]]\n",
    "    data.to_csv(filename,index=False)"
   ]
  },
  {
   "cell_type": "code",
   "execution_count": 71,
   "metadata": {
    "executionInfo": {
     "elapsed": 2824940,
     "status": "ok",
     "timestamp": 1605007725258,
     "user": {
      "displayName": "Yang Fan",
      "photoUrl": "https://lh3.googleusercontent.com/a-/AOh14GiInU-QnUHZapaM3Tm0K_KQavmj3Vjm_p0nYJfv=s64",
      "userId": "08384556913033281712"
     },
     "user_tz": -480
    },
    "id": "TQYkoE3lmp2W"
   },
   "outputs": [],
   "source": [
    "submit(test_df,\"wavenet.csv\")"
   ]
  },
  {
   "cell_type": "code",
   "execution_count": 1,
   "metadata": {
    "executionInfo": {
     "elapsed": 2824815,
     "status": "ok",
     "timestamp": 1605007725259,
     "user": {
      "displayName": "Yang Fan",
      "photoUrl": "https://lh3.googleusercontent.com/a-/AOh14GiInU-QnUHZapaM3Tm0K_KQavmj3Vjm_p0nYJfv=s64",
      "userId": "08384556913033281712"
     },
     "user_tz": -480
    },
    "id": "Ik32J60yoRy_"
   },
   "outputs": [],
   "source": [
    "import torch"
   ]
  },
  {
   "cell_type": "code",
   "execution_count": 2,
   "metadata": {},
   "outputs": [],
   "source": [
    "a=torch.randn(10,10)"
   ]
  },
  {
   "cell_type": "code",
   "execution_count": 4,
   "metadata": {},
   "outputs": [
    {
     "data": {
      "text/plain": [
       "tensor([ 0.8447, -1.6962, -1.3345,  1.3711,  0.1208, -1.0760, -1.5499, -1.5488,\n",
       "         1.9907, -1.1830])"
      ]
     },
     "execution_count": 4,
     "metadata": {},
     "output_type": "execute_result"
    }
   ],
   "source": [
    "a[0]"
   ]
  },
  {
   "cell_type": "code",
   "execution_count": 7,
   "metadata": {},
   "outputs": [],
   "source": [
    "import  torch.nn.functional as F"
   ]
  },
  {
   "cell_type": "code",
   "execution_count": 72,
   "metadata": {},
   "outputs": [
    {
     "ename": "IndentationError",
     "evalue": "unindent does not match any outer indentation level (<tokenize>, line 87)",
     "output_type": "error",
     "traceback": [
      "\u001b[1;36m  File \u001b[1;32m\"<tokenize>\"\u001b[1;36m, line \u001b[1;32m87\u001b[0m\n\u001b[1;33m    with torch.no_grad():\u001b[0m\n\u001b[1;37m    ^\u001b[0m\n\u001b[1;31mIndentationError\u001b[0m\u001b[1;31m:\u001b[0m unindent does not match any outer indentation level\n"
     ]
    }
   ],
   "source": [
    "def self_train(data_path,checkpoint_name,step,max_seq_len=256, model='bert-base-chinese', train_aug=False):\n",
    "\n",
    "  #read data \n",
    "  tokenizer = BertTokenizer.from_pretrained(model)\n",
    "\n",
    "  def text_filter(sentence: str) -> str:\n",
    "        \"\"\"\n",
    "        过滤掉非汉字和标点符号和非数字\n",
    "        :param sentence:\n",
    "        :return:\n",
    "        \"\"\"\n",
    "        line = sentence.replace('\\n', '。')\n",
    "        # 过滤掉非汉字和标点符号和非数字\n",
    "        linelist = [word for word in line if\n",
    "                    word >= u'\\u4e00' and word <= u'\\u9fa5' or word in ['，', '。', '？', '！',\n",
    "                                                                        '：'] or word.isdigit()]\n",
    "        return ''.join(linelist)\n",
    "  def fliter_data(data):\n",
    "      data['content']=data['content'].astype(str)\n",
    "      data[\"text\"]=data[\"content\"].apply(lambda x:text_filter(x))\n",
    "      return data \n",
    "\n",
    "  train_labeled=pd.read_csv(data_path+\"/\"+str(setp)+\"train.csv\")\n",
    "  valid_labeled=pd.read_csv(data_path+\"/valid.csv\")\n",
    "  train_ul=pd.read_csv(data_path+\"/\"+str(setp)+\"train_ul.csv\")\n",
    "  test_df=pd.read_csv(data_path+\"/\"+str(setp)+\"test_df.csv\")\n",
    "\n",
    "\n",
    "\n",
    "  train_labeled=fliter_data(train_labeled)\n",
    "  valid_labeled=filter_data(valid_labeled)\n",
    "  train_ul=fliter_data(train_ul)\n",
    "  test_df=fliter_data(test_df)\n",
    "\n",
    "  total_unlabeled=pd.concat([train_ul,test_df])\n",
    "\n",
    "  train_labeled_dataset = loader_labeled(list(train_labeled[\"text\"]),list(train_labeled[\"num_label\"]), tokenizer, max_seq_len, train_aug)\n",
    "  train_unlabeled_dataset = loader_unlabeled(list(total_unlabeled[\"text\"]),tokenizer, max_seq_len, train_aug)\n",
    "  val_dataset = loader_labeled(list(valid_labeled[\"text\"]),list(valid_labeled[\"num_label\"]), tokenizer, max_seq_len, train_aug)\n",
    "  test_dataset = loader_unlabeled(list(test_df[\"text\"]),tokenizer, max_seq_len, train_aug)\n",
    "\n",
    "  # 制作loader\n",
    "  labeled_trainloader = Data.DataLoader(\n",
    "        dataset=train_labeled_set, batch_size=args.batch_size, shuffle=True)\n",
    "  unlabeled_trainloader = Data.DataLoader(\n",
    "        dataset=train_unlabeled_set, batch_size=args.batch_size_u, shuffle=True)\n",
    "  ## use for self_training \n",
    "  unlabeled_trainloader2 = Data.DataLoader(\n",
    "        dataset=train_unlabeled_set, batch_size=args.batch_size_u, shuffle=False)\n",
    "  val_loader = Data.DataLoader(\n",
    "        dataset=val_set, batch_size=20, shuffle=False)\n",
    "  test_loader = Data.DataLoader(\n",
    "        dataset=test_set, batch_size=20, shuffle=False)\n",
    "\n",
    "  #read model from prev train \n",
    "  #checkpoint=torch.load(checkpoint_name)\n",
    "  #model.load_state_dict(checkpoint)\n",
    "\n",
    "  test_accs = []\n",
    "  #再次训练\n",
    "  for epoch in range(args.epochs):\n",
    "        args.train_aug=False\n",
    "        #调用train函数, 给定有标签数据，无标签数据，模型，优化器，损失函数，labels数量，是否数据增强\n",
    "        train(labeled_trainloader, unlabeled_trainloader, model, optimizer,scheduler, train_criterion, epoch, n_labels, 256,args.train_aug)\n",
    "\n",
    "        # scheduler.step()\n",
    "        # _, train_acc = validate(labeled_trainloader, model,  criterion, epoch, mode='Train Stats')\n",
    "        #print(\"epoch {}, train acc {}\".format(epoch, train_acc))\n",
    "\n",
    "        val_loss, val_acc = validate(val_loader, model, criterion, epoch, mode='Valid Stats')\n",
    "\n",
    "        print(\"epoch {}, 验证集准确率 {}, 验证集损失 {}\".format(epoch, val_acc, val_loss))\n",
    "\n",
    "        print('Epoch: ', epoch)\n",
    "        \n",
    "  ## make predict \n",
    "  append_df=pd.DataFrame([])\n",
    "  ## make a predict \n",
    "  outputs=[]\n",
    "  for batch_idx, (inputs, length) in enumerate(test_loader):\n",
    "            if n_gpu !=0:\n",
    "                inputs = inputs.cuda()\n",
    "            outputs.extend(model(inputs).detach().cpu().numpy())\n",
    "  ## add the high probility sample to train_data\n",
    "\n",
    "  ## 选择低熵样本\n",
    " with torch.no_grad():\n",
    "    outputs_u=torch.tensor(outputs_u)\n",
    "    #precict \n",
    "    _,test_df[\"num_label\"]=torch.max(torch.tensor(outputs), 1)\n",
    "    test_df[\"entropy\"]=torch.sum(-F.softmax(outputs_u, dim=1) * F.log_softmax(outputs_u, dim=1), dim=1).cpu().numpy()\n",
    "    ## select test_df\n",
    "    test_df=test_df.sort_values(\"entropy\").reset_index(drop=True)\n",
    "    append_df1=test_df.iloc[:int(0.1 * len(test_df)),]\n",
    "    test_df=test_df.iloc[int(0.1 * len(test_df)):,]\n",
    "    append_df=pd.concat([append_df,append_df1])\n",
    "\n",
    "  outputs=[]\n",
    "  for batch_idx, (inputs, length) in enumerate(unlabeled_trainloader2):\n",
    "            if n_gpu !=0:\n",
    "                inputs = inputs.cuda()\n",
    "            outputs.extend(model(inputs).detach().cpu().numpy())\n",
    "  ## add the high probility sample to train_data\n",
    "\n",
    "  ## 选择低熵样本\n",
    "  with torch.no_grad():\n",
    "    outputs_u=torch.tensor(outputs_u)\n",
    "    #precict \n",
    "    _,train_ul[\"num_label\"]=torch.max(torch.tensor(outputs), 1)\n",
    "    train_ul[\"entropy\"]=torch.sum(-F.softmax(outputs_u, dim=1) * F.log_softmax(outputs_u, dim=1), dim=1).cpu().numpy()\n",
    "    ## select test_df\n",
    "    train_ul=train_ul.sort_values(\"entropy\").reset_index(drop=True)\n",
    "    append_df2=train_ul.iloc[:int(0.1 * len(train_ul)),]\n",
    "    train_ul=train_ul.iloc[int(0.1 * len(train_ul)):,]\n",
    "    append_df=pd.concat([append_df,append_df2])\n",
    "\n",
    "  ## get new train_labeled,train_ul,test_df \n",
    "  train_labeled=pd.concat([train_labeled,append_df])\n",
    "  train_ul=train_ul\n",
    "  test_df=test_df \n",
    "\n",
    "  train_labeled.to_csv(data_path+\"/\"+str(step+1)+\"train.csv\",index=False)\n",
    "  train_ul.to_csv(data_path+\"/\"+str(step+1)+\"train_ul.csv\",index=False)\n",
    "  test_df.to_csv(data_path+\"/\"+str(step+1)+\"test_df.csv\",index=False)\n",
    "\n",
    "  torch.save(model.module.state_dict(), \"/content/drive/My Drive/MixText/code/model/self_train_model\"+str(step)+\".pt\")\n",
    "  "
   ]
  },
  {
   "cell_type": "code",
   "execution_count": null,
   "metadata": {},
   "outputs": [],
   "source": []
  }
 ],
 "metadata": {
  "accelerator": "GPU",
  "colab": {
   "authorship_tag": "ABX9TyMQCsV8j2+LYlucu+qM/ZeS",
   "collapsed_sections": [],
   "name": "wavenet.ipynb",
   "provenance": []
  },
  "kernelspec": {
   "display_name": "Python 3",
   "language": "python",
   "name": "python3"
  },
  "language_info": {
   "codemirror_mode": {
    "name": "ipython",
    "version": 3
   },
   "file_extension": ".py",
   "mimetype": "text/x-python",
   "name": "python",
   "nbconvert_exporter": "python",
   "pygments_lexer": "ipython3",
   "version": "3.7.1"
  }
 },
 "nbformat": 4,
 "nbformat_minor": 1
}
